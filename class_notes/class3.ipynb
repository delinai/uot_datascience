{
 "cells": [
  {
   "cell_type": "code",
   "execution_count": 1,
   "metadata": {},
   "outputs": [],
   "source": [
    "# defining custom functions\n",
    "list1 = [5,8,9,15,35,52,26,4,20]"
   ]
  },
  {
   "cell_type": "code",
   "execution_count": 2,
   "metadata": {},
   "outputs": [
    {
     "data": {
      "text/plain": [
       "19.333333333333332"
      ]
     },
     "execution_count": 2,
     "metadata": {},
     "output_type": "execute_result"
    }
   ],
   "source": [
    "# let's calculate descriptive statistics about the list\n",
    "\n",
    "mean_list1 = sum(list1) / len(list1)\n",
    "mean_list1"
   ]
  },
  {
   "cell_type": "code",
   "execution_count": 15,
   "metadata": {},
   "outputs": [],
   "source": [
    "# let's define a custom function for the mean\n",
    "\n",
    "def mean(input_list):\n",
    "    mean = sum(input_list) / len(input_list)\n",
    "    return mean"
   ]
  },
  {
   "cell_type": "code",
   "execution_count": 16,
   "metadata": {},
   "outputs": [
    {
     "data": {
      "text/plain": [
       "19.333333333333332"
      ]
     },
     "execution_count": 16,
     "metadata": {},
     "output_type": "execute_result"
    }
   ],
   "source": [
    "# Once a function has been defined, we can apply it directly to our list\n",
    "mean(list1)"
   ]
  },
  {
   "cell_type": "code",
   "execution_count": 5,
   "metadata": {},
   "outputs": [
    {
     "data": {
      "text/plain": [
       "174"
      ]
     },
     "execution_count": 5,
     "metadata": {},
     "output_type": "execute_result"
    }
   ],
   "source": [
    "sum(list1)"
   ]
  },
  {
   "cell_type": "code",
   "execution_count": 31,
   "metadata": {},
   "outputs": [],
   "source": [
    "# define a function to calculate the median of a list\n",
    "# logic: \n",
    "# 1 - sort the list in ascending order, calculate length of list\n",
    "# 2 - check if there's an even number of numbers, or an odd number of numbers\n",
    "# 3 - if it's even > take the avg of the two in the middle; if odd, just take the middle number\n",
    "\n",
    "\n",
    "def median(input_list):\n",
    "    input_list.sort()\n",
    "    length = len(input_list)\n",
    "    if length % 2 == 0: # for even number of numbers\n",
    "        # first position\n",
    "        first_position = input_list[length//2]\n",
    "        second_position = input_list[length//2-1]\n",
    "        median = (first_position + second_position) / 2\n",
    "    else: # for odd number of numbers\n",
    "        median = input_list[length//2]\n",
    "    return median"
   ]
  },
  {
   "cell_type": "code",
   "execution_count": 32,
   "metadata": {},
   "outputs": [
    {
     "data": {
      "text/plain": [
       "17.5"
      ]
     },
     "execution_count": 32,
     "metadata": {},
     "output_type": "execute_result"
    }
   ],
   "source": [
    "median(list1)"
   ]
  },
  {
   "cell_type": "code",
   "execution_count": 42,
   "metadata": {},
   "outputs": [],
   "source": [
    "# Let's define a function to calculate standard deviation\n",
    "\n",
    "def stdev(input_list):\n",
    "    squared_list = []\n",
    "    n = len(input_list)\n",
    "    mean = sum(input_list) / n\n",
    "    for i in input_list:\n",
    "        squared_list.append((i-mean)**2)\n",
    "    sq_sum = sum(squared_list)\n",
    "    variance = sq_sum / n\n",
    "    stdev = variance ** (1/2)\n",
    "    return stdev\n"
   ]
  },
  {
   "cell_type": "code",
   "execution_count": 48,
   "metadata": {},
   "outputs": [
    {
     "data": {
      "text/plain": [
       "14.333527130472806"
      ]
     },
     "execution_count": 48,
     "metadata": {},
     "output_type": "execute_result"
    }
   ],
   "source": [
    "stdev(list1)"
   ]
  },
  {
   "cell_type": "code",
   "execution_count": 49,
   "metadata": {},
   "outputs": [
    {
     "name": "stdout",
     "output_type": "stream",
     "text": [
      "14.333527130472806\n",
      "14.093164440629268\n",
      "13.654211804421374\n",
      "13.232612773610755\n",
      "12.320939718850815\n",
      "11.855800268223145\n",
      "11.800423721205947\n",
      "10.780641085864152\n",
      "8.5\n",
      "0.0\n"
     ]
    }
   ],
   "source": [
    "# rolling standard deviation\n",
    "for i in range(len(list1)):\n",
    "    print(stdev(list1[i:]))"
   ]
  },
  {
   "cell_type": "code",
   "execution_count": 37,
   "metadata": {},
   "outputs": [
    {
     "name": "stdout",
     "output_type": "stream",
     "text": [
      "10\n",
      "20\n",
      "30\n",
      "40\n",
      "50\n",
      "60\n"
     ]
    }
   ],
   "source": [
    "# example of using break statement to interrupt a loop\n",
    "\n",
    "x = 0\n",
    "\n",
    "while x < 100:\n",
    "    if x > 50:\n",
    "        break\n",
    "    else:\n",
    "        x += 10\n",
    "    print(x)"
   ]
  },
  {
   "cell_type": "code",
   "execution_count": 52,
   "metadata": {},
   "outputs": [],
   "source": [
    "def descriptive_statistics(input_list):\n",
    "    input_list.sort()\n",
    "    length = len(input_list)\n",
    "    if length % 2 == 0: # for even number of numbers\n",
    "        # first position\n",
    "        first_position = input_list[length//2]\n",
    "        second_position = input_list[length//2-1]\n",
    "        median = (first_position + second_position) / 2\n",
    "    else: # for odd number of numbers\n",
    "        median = input_list[length//2]\n",
    "    \n",
    "    mean = sum(input_list) / len(input_list)\n",
    "    \n",
    "    squared_list = []\n",
    "    n = len(input_list)\n",
    "    mean = sum(input_list) / n\n",
    "    for i in input_list:\n",
    "        squared_list.append((i-mean)**2)\n",
    "    sq_sum = sum(squared_list)\n",
    "    variance = sq_sum / n\n",
    "    stdev = variance ** (1/2)\n",
    "\n",
    "    print(\"Min: \", min(input_list))\n",
    "    print(\"Max: \", max(input_list))\n",
    "    print(\"Mean: \", mean)\n",
    "    print(\"Median: \", median)\n",
    "    print(\"Variance: \", variance)\n",
    "    print(\"StDev: \", stdev)\n",
    "    "
   ]
  },
  {
   "cell_type": "code",
   "execution_count": 53,
   "metadata": {},
   "outputs": [
    {
     "name": "stdout",
     "output_type": "stream",
     "text": [
      "Min:  4\n",
      "Max:  52\n",
      "Mean:  19.5\n",
      "Median:  17.5\n",
      "Variance:  205.45\n",
      "StDev:  14.333527130472806\n"
     ]
    }
   ],
   "source": [
    "descriptive_statistics(list1)"
   ]
  },
  {
   "cell_type": "code",
   "execution_count": 54,
   "metadata": {},
   "outputs": [],
   "source": [
    "list2 = [78,76,98,56,78,97,65,43,32]"
   ]
  },
  {
   "cell_type": "code",
   "execution_count": 55,
   "metadata": {},
   "outputs": [
    {
     "name": "stdout",
     "output_type": "stream",
     "text": [
      "Min:  32\n",
      "Max:  98\n",
      "Mean:  69.22222222222223\n",
      "Median:  76\n",
      "Variance:  451.72839506172846\n",
      "StDev:  21.253903054773925\n"
     ]
    }
   ],
   "source": [
    "descriptive_statistics(list2)"
   ]
  },
  {
   "attachments": {},
   "cell_type": "markdown",
   "metadata": {},
   "source": [
    "### NumPy"
   ]
  },
  {
   "cell_type": "code",
   "execution_count": 58,
   "metadata": {},
   "outputs": [
    {
     "name": "stdout",
     "output_type": "stream",
     "text": [
      "Requirement already satisfied: numpy in /usr/local/lib/python3.11/site-packages (1.25.0)\n",
      "Note: you may need to restart the kernel to use updated packages.\n"
     ]
    }
   ],
   "source": [
    "pip install numpy"
   ]
  },
  {
   "cell_type": "code",
   "execution_count": 59,
   "metadata": {},
   "outputs": [],
   "source": [
    "import numpy as np"
   ]
  },
  {
   "cell_type": "code",
   "execution_count": 60,
   "metadata": {},
   "outputs": [],
   "source": [
    "# let's create a 1-dimensional array\n",
    "\n",
    "array_1d = np.array(list1)"
   ]
  },
  {
   "cell_type": "code",
   "execution_count": 61,
   "metadata": {},
   "outputs": [
    {
     "data": {
      "text/plain": [
       "array([ 4,  5,  8,  9, 15, 20, 21, 26, 35, 52])"
      ]
     },
     "execution_count": 61,
     "metadata": {},
     "output_type": "execute_result"
    }
   ],
   "source": [
    "array_1d"
   ]
  },
  {
   "cell_type": "code",
   "execution_count": 62,
   "metadata": {},
   "outputs": [
    {
     "data": {
      "text/plain": [
       "52"
      ]
     },
     "execution_count": 62,
     "metadata": {},
     "output_type": "execute_result"
    }
   ],
   "source": [
    "# calculate the max()\n",
    "array_1d.max()"
   ]
  },
  {
   "cell_type": "code",
   "execution_count": 63,
   "metadata": {},
   "outputs": [
    {
     "data": {
      "text/plain": [
       "4"
      ]
     },
     "execution_count": 63,
     "metadata": {},
     "output_type": "execute_result"
    }
   ],
   "source": [
    "# calculate the min()\n",
    "array_1d.min()"
   ]
  },
  {
   "cell_type": "code",
   "execution_count": 64,
   "metadata": {},
   "outputs": [
    {
     "data": {
      "text/plain": [
       "19.5"
      ]
     },
     "execution_count": 64,
     "metadata": {},
     "output_type": "execute_result"
    }
   ],
   "source": [
    "# calculate the mean()\n",
    "array_1d.mean()"
   ]
  },
  {
   "cell_type": "code",
   "execution_count": 65,
   "metadata": {},
   "outputs": [
    {
     "data": {
      "text/plain": [
       "14.333527130472806"
      ]
     },
     "execution_count": 65,
     "metadata": {},
     "output_type": "execute_result"
    }
   ],
   "source": [
    "# calculate the standard deviation\n",
    "array_1d.std()"
   ]
  },
  {
   "cell_type": "code",
   "execution_count": 66,
   "metadata": {},
   "outputs": [],
   "source": [
    "# create a 2-dimensional array\n",
    "\n",
    "array_2d = np.array([list1,list1])"
   ]
  },
  {
   "cell_type": "code",
   "execution_count": 67,
   "metadata": {},
   "outputs": [
    {
     "data": {
      "text/plain": [
       "array([[ 4,  5,  8,  9, 15, 20, 21, 26, 35, 52],\n",
       "       [ 4,  5,  8,  9, 15, 20, 21, 26, 35, 52]])"
      ]
     },
     "execution_count": 67,
     "metadata": {},
     "output_type": "execute_result"
    }
   ],
   "source": [
    "array_2d"
   ]
  },
  {
   "cell_type": "code",
   "execution_count": 68,
   "metadata": {},
   "outputs": [
    {
     "data": {
      "text/plain": [
       "4"
      ]
     },
     "execution_count": 68,
     "metadata": {},
     "output_type": "execute_result"
    }
   ],
   "source": [
    "array_2d.min()"
   ]
  },
  {
   "cell_type": "code",
   "execution_count": 69,
   "metadata": {},
   "outputs": [
    {
     "data": {
      "text/plain": [
       "52"
      ]
     },
     "execution_count": 69,
     "metadata": {},
     "output_type": "execute_result"
    }
   ],
   "source": [
    "array_2d.max()"
   ]
  },
  {
   "cell_type": "code",
   "execution_count": 70,
   "metadata": {},
   "outputs": [
    {
     "data": {
      "text/plain": [
       "19.5"
      ]
     },
     "execution_count": 70,
     "metadata": {},
     "output_type": "execute_result"
    }
   ],
   "source": [
    "array_2d.mean()"
   ]
  },
  {
   "cell_type": "code",
   "execution_count": 71,
   "metadata": {},
   "outputs": [
    {
     "data": {
      "text/plain": [
       "2"
      ]
     },
     "execution_count": 71,
     "metadata": {},
     "output_type": "execute_result"
    }
   ],
   "source": [
    "# check the number of dimensions\n",
    "array_2d.ndim"
   ]
  },
  {
   "cell_type": "code",
   "execution_count": 72,
   "metadata": {},
   "outputs": [
    {
     "data": {
      "text/plain": [
       "1"
      ]
     },
     "execution_count": 72,
     "metadata": {},
     "output_type": "execute_result"
    }
   ],
   "source": [
    "array_1d.ndim"
   ]
  },
  {
   "cell_type": "code",
   "execution_count": 73,
   "metadata": {},
   "outputs": [],
   "source": [
    "# add 5 dimensions\n",
    "array_5d = np.array([1,2,5,6,8], ndmin=5)"
   ]
  },
  {
   "cell_type": "code",
   "execution_count": 74,
   "metadata": {},
   "outputs": [
    {
     "data": {
      "text/plain": [
       "array([[[[[1, 2, 5, 6, 8]]]]])"
      ]
     },
     "execution_count": 74,
     "metadata": {},
     "output_type": "execute_result"
    }
   ],
   "source": [
    "array_5d"
   ]
  },
  {
   "cell_type": "code",
   "execution_count": 75,
   "metadata": {},
   "outputs": [],
   "source": [
    "# add 3 dimensions\n",
    "array_3d = np.array([1,2,5,6,8], ndmin=3)"
   ]
  },
  {
   "cell_type": "code",
   "execution_count": 76,
   "metadata": {},
   "outputs": [
    {
     "data": {
      "text/plain": [
       "array([[[1, 2, 5, 6, 8]]])"
      ]
     },
     "execution_count": 76,
     "metadata": {},
     "output_type": "execute_result"
    }
   ],
   "source": [
    "array_3d"
   ]
  },
  {
   "cell_type": "code",
   "execution_count": 79,
   "metadata": {},
   "outputs": [
    {
     "data": {
      "text/plain": [
       "[4, 5, 8]"
      ]
     },
     "execution_count": 79,
     "metadata": {},
     "output_type": "execute_result"
    }
   ],
   "source": [
    "# slicing arrays\n",
    "list1[0:3]"
   ]
  },
  {
   "cell_type": "code",
   "execution_count": 81,
   "metadata": {},
   "outputs": [
    {
     "data": {
      "text/plain": [
       "4"
      ]
     },
     "execution_count": 81,
     "metadata": {},
     "output_type": "execute_result"
    }
   ],
   "source": [
    "# slicing a 1d array is basically the same as slicing a list\n",
    "array_1d[0]"
   ]
  },
  {
   "cell_type": "code",
   "execution_count": 82,
   "metadata": {},
   "outputs": [
    {
     "data": {
      "text/plain": [
       "array([[ 4,  5,  8,  9, 15, 20, 21, 26, 35, 52],\n",
       "       [ 4,  5,  8,  9, 15, 20, 21, 26, 35, 52]])"
      ]
     },
     "execution_count": 82,
     "metadata": {},
     "output_type": "execute_result"
    }
   ],
   "source": [
    "# slicing a 2d array, we need to specify position based on dimension\n",
    "array_2d"
   ]
  },
  {
   "cell_type": "code",
   "execution_count": 84,
   "metadata": {},
   "outputs": [
    {
     "data": {
      "text/plain": [
       "26"
      ]
     },
     "execution_count": 84,
     "metadata": {},
     "output_type": "execute_result"
    }
   ],
   "source": [
    "array_2d[0,-3]"
   ]
  },
  {
   "cell_type": "code",
   "execution_count": 87,
   "metadata": {},
   "outputs": [],
   "source": [
    "# 3d array\n",
    "array_3d = np.array([[list1,list1],[list1,list1]])"
   ]
  },
  {
   "cell_type": "code",
   "execution_count": 88,
   "metadata": {},
   "outputs": [
    {
     "data": {
      "text/plain": [
       "array([[[52, 35, 26, 21, 20, 15,  9,  8,  5,  4],\n",
       "        [52, 35, 26, 21, 20, 15,  9,  8,  5,  4]],\n",
       "\n",
       "       [[52, 35, 26, 21, 20, 15,  9,  8,  5,  4],\n",
       "        [52, 35, 26, 21, 20, 15,  9,  8,  5,  4]]])"
      ]
     },
     "execution_count": 88,
     "metadata": {},
     "output_type": "execute_result"
    }
   ],
   "source": [
    "array_3d"
   ]
  },
  {
   "cell_type": "code",
   "execution_count": 90,
   "metadata": {},
   "outputs": [
    {
     "data": {
      "text/plain": [
       "15"
      ]
     },
     "execution_count": 90,
     "metadata": {},
     "output_type": "execute_result"
    }
   ],
   "source": [
    "array_3d[0,1,5]"
   ]
  },
  {
   "cell_type": "code",
   "execution_count": 97,
   "metadata": {},
   "outputs": [
    {
     "data": {
      "text/plain": [
       "5"
      ]
     },
     "execution_count": 97,
     "metadata": {},
     "output_type": "execute_result"
    }
   ],
   "source": [
    "# both using one set of square brackets with commas, and using square brackets for each slice are valid notations\n",
    "array_5d[0][0][0][0][2]"
   ]
  },
  {
   "cell_type": "code",
   "execution_count": 99,
   "metadata": {},
   "outputs": [
    {
     "data": {
      "text/plain": [
       "array([ 9, 15, 20, 21, 26, 35])"
      ]
     },
     "execution_count": 99,
     "metadata": {},
     "output_type": "execute_result"
    }
   ],
   "source": [
    "# we can also slice ranges of values in each sub-array\n",
    "array_2d[0,3:9]"
   ]
  },
  {
   "cell_type": "code",
   "execution_count": 100,
   "metadata": {},
   "outputs": [
    {
     "data": {
      "text/plain": [
       "array([ 8, 15, 21, 35])"
      ]
     },
     "execution_count": 100,
     "metadata": {},
     "output_type": "execute_result"
    }
   ],
   "source": [
    "# we can also slice with a step argument, like we did with lists\n",
    "array_2d[0,2::2]"
   ]
  },
  {
   "cell_type": "code",
   "execution_count": 101,
   "metadata": {},
   "outputs": [
    {
     "data": {
      "text/plain": [
       "array([[ 4,  5,  8,  9, 15, 20, 21, 26, 35, 52],\n",
       "       [ 4,  5,  8,  9, 15, 20, 21, 26, 35, 52]])"
      ]
     },
     "execution_count": 101,
     "metadata": {},
     "output_type": "execute_result"
    }
   ],
   "source": [
    "array_2d"
   ]
  },
  {
   "cell_type": "code",
   "execution_count": 103,
   "metadata": {},
   "outputs": [
    {
     "data": {
      "text/plain": [
       "(2, 10)"
      ]
     },
     "execution_count": 103,
     "metadata": {},
     "output_type": "execute_result"
    }
   ],
   "source": [
    "# we can also check the shape of an array - the shape of our 2d array is (2,10) > 2 rows, 10 columns\n",
    "array_2d.shape"
   ]
  },
  {
   "cell_type": "code",
   "execution_count": 106,
   "metadata": {},
   "outputs": [
    {
     "data": {
      "text/plain": [
       "2"
      ]
     },
     "execution_count": 106,
     "metadata": {},
     "output_type": "execute_result"
    }
   ],
   "source": [
    "array_2d.ndim"
   ]
  },
  {
   "cell_type": "code",
   "execution_count": 107,
   "metadata": {},
   "outputs": [
    {
     "data": {
      "text/plain": [
       "(10,)"
      ]
     },
     "execution_count": 107,
     "metadata": {},
     "output_type": "execute_result"
    }
   ],
   "source": [
    "# let's check the 1d array > the tuple (10,) returns the number of columns; it will not say (1,10)\n",
    "array_1d.shape"
   ]
  },
  {
   "cell_type": "code",
   "execution_count": 108,
   "metadata": {},
   "outputs": [
    {
     "data": {
      "text/plain": [
       "array([ 4,  5,  8,  9, 15, 20, 21, 26, 35, 52])"
      ]
     },
     "execution_count": 108,
     "metadata": {},
     "output_type": "execute_result"
    }
   ],
   "source": [
    "array_1d"
   ]
  },
  {
   "cell_type": "code",
   "execution_count": 109,
   "metadata": {},
   "outputs": [
    {
     "data": {
      "text/plain": [
       "array([[ 4,  5,  8,  9, 15, 20, 21, 26, 35, 52],\n",
       "       [ 4,  5,  8,  9, 15, 20, 21, 26, 35, 52]])"
      ]
     },
     "execution_count": 109,
     "metadata": {},
     "output_type": "execute_result"
    }
   ],
   "source": [
    "# understanding the shape matters so we can re-shape the array\n",
    "array_2d"
   ]
  },
  {
   "cell_type": "code",
   "execution_count": 110,
   "metadata": {},
   "outputs": [
    {
     "data": {
      "text/plain": [
       "array([[[ 4,  5,  8,  9, 15],\n",
       "        [20, 21, 26, 35, 52]],\n",
       "\n",
       "       [[ 4,  5,  8,  9, 15],\n",
       "        [20, 21, 26, 35, 52]]])"
      ]
     },
     "execution_count": 110,
     "metadata": {},
     "output_type": "execute_result"
    }
   ],
   "source": [
    "# in our 2d array, we have 20 values\n",
    "# the possible combinations of squares are: 2x10, 5x4, 5x2x2, 1x20, 20x1, 10x2, 2x2x5, 4x5\n",
    "\n",
    "array_2d.reshape(2,2,5)"
   ]
  },
  {
   "cell_type": "code",
   "execution_count": 111,
   "metadata": {},
   "outputs": [
    {
     "data": {
      "text/plain": [
       "array([[ 4,  5,  8,  9],\n",
       "       [15, 20, 21, 26],\n",
       "       [35, 52,  4,  5],\n",
       "       [ 8,  9, 15, 20],\n",
       "       [21, 26, 35, 52]])"
      ]
     },
     "execution_count": 111,
     "metadata": {},
     "output_type": "execute_result"
    }
   ],
   "source": [
    "array_2d.reshape(5,4)"
   ]
  },
  {
   "cell_type": "code",
   "execution_count": 112,
   "metadata": {},
   "outputs": [
    {
     "data": {
      "text/plain": [
       "array([[[ 4],\n",
       "        [ 5],\n",
       "        [ 8],\n",
       "        [ 9],\n",
       "        [15]],\n",
       "\n",
       "       [[20],\n",
       "        [21],\n",
       "        [26],\n",
       "        [35],\n",
       "        [52]],\n",
       "\n",
       "       [[ 4],\n",
       "        [ 5],\n",
       "        [ 8],\n",
       "        [ 9],\n",
       "        [15]],\n",
       "\n",
       "       [[20],\n",
       "        [21],\n",
       "        [26],\n",
       "        [35],\n",
       "        [52]]])"
      ]
     },
     "execution_count": 112,
     "metadata": {},
     "output_type": "execute_result"
    }
   ],
   "source": [
    "array_2d.reshape(4,5,1)"
   ]
  },
  {
   "cell_type": "code",
   "execution_count": 113,
   "metadata": {},
   "outputs": [
    {
     "data": {
      "text/plain": [
       "array([[[ 4,  5,  8,  9, 15],\n",
       "        [20, 21, 26, 35, 52]],\n",
       "\n",
       "       [[ 4,  5,  8,  9, 15],\n",
       "        [20, 21, 26, 35, 52]]])"
      ]
     },
     "execution_count": 113,
     "metadata": {},
     "output_type": "execute_result"
    }
   ],
   "source": [
    "# if we don't know one of the dimensions, we can write \"-1\", and Python will figure out what the size of the last dimension needs to be\n",
    "array_2d.reshape(2,2,-1)"
   ]
  },
  {
   "cell_type": "code",
   "execution_count": 114,
   "metadata": {},
   "outputs": [
    {
     "ename": "ValueError",
     "evalue": "cannot reshape array of size 20 into shape (3,2,newaxis)",
     "output_type": "error",
     "traceback": [
      "\u001b[0;31m---------------------------------------------------------------------------\u001b[0m",
      "\u001b[0;31mValueError\u001b[0m                                Traceback (most recent call last)",
      "Cell \u001b[0;32mIn[114], line 1\u001b[0m\n\u001b[0;32m----> 1\u001b[0m array_2d\u001b[39m.\u001b[39;49mreshape(\u001b[39m3\u001b[39;49m,\u001b[39m2\u001b[39;49m,\u001b[39m-\u001b[39;49m\u001b[39m1\u001b[39;49m)\n",
      "\u001b[0;31mValueError\u001b[0m: cannot reshape array of size 20 into shape (3,2,newaxis)"
     ]
    }
   ],
   "source": [
    "# we won't be able to use just any value we want, we need to ensure that the size (# of numbers) of the array is divisible by the dimensions \n",
    "array_2d.reshape(3,2,-1)"
   ]
  },
  {
   "cell_type": "code",
   "execution_count": 115,
   "metadata": {},
   "outputs": [
    {
     "data": {
      "text/plain": [
       "array([ 4,  5,  8,  9, 15, 20, 21, 26, 35, 52,  4,  5,  8,  9, 15, 20, 21,\n",
       "       26, 35, 52])"
      ]
     },
     "execution_count": 115,
     "metadata": {},
     "output_type": "execute_result"
    }
   ],
   "source": [
    "# for machine learning, we often flatten the array - this creates a 1d array\n",
    "array_2d.flatten()"
   ]
  },
  {
   "cell_type": "code",
   "execution_count": 116,
   "metadata": {},
   "outputs": [
    {
     "data": {
      "text/plain": [
       "array([ 4,  5,  8,  9, 15, 20, 21, 26, 35, 52,  4,  5,  8,  9, 15, 20, 21,\n",
       "       26, 35, 52])"
      ]
     },
     "execution_count": 116,
     "metadata": {},
     "output_type": "execute_result"
    }
   ],
   "source": [
    "array_2d.ravel()"
   ]
  },
  {
   "cell_type": "code",
   "execution_count": 119,
   "metadata": {},
   "outputs": [
    {
     "name": "stdout",
     "output_type": "stream",
     "text": [
      "[ 4  5  8  9 15 20 21 26 35 52]\n",
      "[ 4  5  8  9 15 20 21 26 35 52]\n"
     ]
    }
   ],
   "source": [
    "# iterating through array - first, the loop will iterate through each dimension\n",
    "for i in array_2d:\n",
    "    print(i)"
   ]
  },
  {
   "cell_type": "code",
   "execution_count": 120,
   "metadata": {},
   "outputs": [
    {
     "data": {
      "text/plain": [
       "array([[ 4,  5,  8,  9, 15, 20, 21, 26, 35, 52],\n",
       "       [ 4,  5,  8,  9, 15, 20, 21, 26, 35, 52]])"
      ]
     },
     "execution_count": 120,
     "metadata": {},
     "output_type": "execute_result"
    }
   ],
   "source": [
    "array_2d"
   ]
  },
  {
   "cell_type": "code",
   "execution_count": 121,
   "metadata": {},
   "outputs": [
    {
     "name": "stdout",
     "output_type": "stream",
     "text": [
      "4\n",
      "5\n",
      "8\n",
      "9\n",
      "15\n",
      "20\n",
      "21\n",
      "26\n",
      "35\n",
      "52\n",
      "4\n",
      "5\n",
      "8\n",
      "9\n",
      "15\n",
      "20\n",
      "21\n",
      "26\n",
      "35\n",
      "52\n"
     ]
    }
   ],
   "source": [
    "# if we need to iterate through values, we need a nested loop\n",
    "for i in array_2d:\n",
    "    for a in i:\n",
    "        print(a)"
   ]
  },
  {
   "cell_type": "code",
   "execution_count": 123,
   "metadata": {},
   "outputs": [
    {
     "name": "stdout",
     "output_type": "stream",
     "text": [
      "4\n",
      "5\n",
      "8\n",
      "9\n",
      "15\n",
      "20\n",
      "21\n",
      "26\n",
      "35\n",
      "52\n",
      "4\n",
      "5\n",
      "8\n",
      "9\n",
      "15\n",
      "20\n",
      "21\n",
      "26\n",
      "35\n",
      "52\n"
     ]
    }
   ],
   "source": [
    "# NumPy has an iteration function nditer() which can iterate through all levels within an array\n",
    "for i in np.nditer(array_2d):\n",
    "    print(i)"
   ]
  },
  {
   "cell_type": "code",
   "execution_count": 124,
   "metadata": {},
   "outputs": [
    {
     "name": "stdout",
     "output_type": "stream",
     "text": [
      "4\n",
      "8\n",
      "15\n",
      "21\n",
      "35\n",
      "4\n",
      "8\n",
      "15\n",
      "21\n",
      "35\n"
     ]
    }
   ],
   "source": [
    "# We can specificy slices or steps at which to iterate; for example, taking every other value in an array\n",
    "for i in np.nditer(array_2d[:,::2]):\n",
    "    print(i)"
   ]
  },
  {
   "cell_type": "code",
   "execution_count": 125,
   "metadata": {},
   "outputs": [
    {
     "data": {
      "text/plain": [
       "[52, 35, 26, 21, 20, 15, 9, 8, 5, 4]"
      ]
     },
     "execution_count": 125,
     "metadata": {},
     "output_type": "execute_result"
    }
   ],
   "source": [
    "list1"
   ]
  },
  {
   "cell_type": "code",
   "execution_count": 126,
   "metadata": {},
   "outputs": [
    {
     "name": "stdout",
     "output_type": "stream",
     "text": [
      "0\n",
      "52\n",
      "1\n",
      "35\n",
      "2\n",
      "26\n",
      "3\n",
      "21\n",
      "4\n",
      "20\n",
      "5\n",
      "15\n",
      "6\n",
      "9\n",
      "7\n",
      "8\n",
      "8\n",
      "5\n",
      "9\n",
      "4\n"
     ]
    }
   ],
   "source": [
    "# we can use the enumerate() function in Python to add the position of a given value, as well as the value itself\n",
    "for a,b in enumerate(list1):\n",
    "    print(a)\n",
    "    print(b)"
   ]
  },
  {
   "cell_type": "code",
   "execution_count": 127,
   "metadata": {},
   "outputs": [],
   "source": [
    "# let's say we're multiplying and replacing values in a list - we can use enumerate instead of list.index() function\n",
    "\n",
    "for a,b in enumerate(list1):\n",
    "    list1[a] = b*2"
   ]
  },
  {
   "cell_type": "code",
   "execution_count": 128,
   "metadata": {},
   "outputs": [
    {
     "data": {
      "text/plain": [
       "[104, 70, 52, 42, 40, 30, 18, 16, 10, 8]"
      ]
     },
     "execution_count": 128,
     "metadata": {},
     "output_type": "execute_result"
    }
   ],
   "source": [
    "list1"
   ]
  },
  {
   "cell_type": "code",
   "execution_count": 129,
   "metadata": {},
   "outputs": [],
   "source": [
    "# previously , we achieved the same thing using the following:\n",
    "for i in list1:\n",
    "    list1[list1.index(i)] = i*2"
   ]
  },
  {
   "cell_type": "code",
   "execution_count": 130,
   "metadata": {},
   "outputs": [
    {
     "name": "stdout",
     "output_type": "stream",
     "text": [
      "(0, 0) 4\n",
      "(0, 1) 5\n",
      "(0, 2) 8\n",
      "(0, 3) 9\n",
      "(0, 4) 15\n",
      "(0, 5) 20\n",
      "(0, 6) 21\n",
      "(0, 7) 26\n",
      "(0, 8) 35\n",
      "(0, 9) 52\n",
      "(1, 0) 4\n",
      "(1, 1) 5\n",
      "(1, 2) 8\n",
      "(1, 3) 9\n",
      "(1, 4) 15\n",
      "(1, 5) 20\n",
      "(1, 6) 21\n",
      "(1, 7) 26\n",
      "(1, 8) 35\n",
      "(1, 9) 52\n"
     ]
    }
   ],
   "source": [
    "# NumPy also has an enumerate() function\n",
    "\n",
    "for a,b in np.ndenumerate(array_2d):\n",
    "    print(a,b)"
   ]
  },
  {
   "attachments": {},
   "cell_type": "markdown",
   "metadata": {},
   "source": [
    "### Combining Arrays together"
   ]
  },
  {
   "cell_type": "code",
   "execution_count": 131,
   "metadata": {},
   "outputs": [],
   "source": [
    "array1 = np.array([1,5,8,9])\n",
    "array2 = np.array([9,5,7,15])"
   ]
  },
  {
   "cell_type": "code",
   "execution_count": 133,
   "metadata": {},
   "outputs": [],
   "source": [
    "# we can use concatenate() \n",
    "arr_final = np.concatenate([array1, array2])"
   ]
  },
  {
   "cell_type": "code",
   "execution_count": 134,
   "metadata": {},
   "outputs": [
    {
     "data": {
      "text/plain": [
       "array([ 1,  5,  8,  9,  9,  5,  7, 15])"
      ]
     },
     "execution_count": 134,
     "metadata": {},
     "output_type": "execute_result"
    }
   ],
   "source": [
    "arr_final"
   ]
  },
  {
   "cell_type": "code",
   "execution_count": 140,
   "metadata": {},
   "outputs": [],
   "source": [
    "# when we work with multi-dimensional objects, we use a concept called an \"axis\"\n",
    "# if we want to join them on top of each other, we need to set axis=1\n",
    "\n",
    "array1 = np.array([[1,2],[3,4]])\n",
    "array2 = np.array([[9,5],[5,6]])\n",
    "arr_final = np.concatenate((array1,array2), axis=1) # column-wise concatenation"
   ]
  },
  {
   "cell_type": "code",
   "execution_count": 141,
   "metadata": {},
   "outputs": [
    {
     "data": {
      "text/plain": [
       "array([[1, 2, 9, 5],\n",
       "       [3, 4, 5, 6]])"
      ]
     },
     "execution_count": 141,
     "metadata": {},
     "output_type": "execute_result"
    }
   ],
   "source": [
    "arr_final"
   ]
  },
  {
   "cell_type": "code",
   "execution_count": 142,
   "metadata": {},
   "outputs": [
    {
     "data": {
      "text/plain": [
       "array([[1, 2],\n",
       "       [3, 4]])"
      ]
     },
     "execution_count": 142,
     "metadata": {},
     "output_type": "execute_result"
    }
   ],
   "source": [
    "array1"
   ]
  },
  {
   "cell_type": "code",
   "execution_count": 143,
   "metadata": {},
   "outputs": [
    {
     "data": {
      "text/plain": [
       "array([[1, 2],\n",
       "       [3, 4],\n",
       "       [9, 5],\n",
       "       [5, 6]])"
      ]
     },
     "execution_count": 143,
     "metadata": {},
     "output_type": "execute_result"
    }
   ],
   "source": [
    "array1 = np.array([[1,2],[3,4]])\n",
    "array2 = np.array([[9,5],[5,6]])\n",
    "arr_final = np.concatenate((array1,array2), axis=0) # row-wise concatenation\n",
    "arr_final"
   ]
  },
  {
   "cell_type": "code",
   "execution_count": 144,
   "metadata": {},
   "outputs": [
    {
     "data": {
      "text/plain": [
       "array([[1, 2],\n",
       "       [3, 4]])"
      ]
     },
     "execution_count": 144,
     "metadata": {},
     "output_type": "execute_result"
    }
   ],
   "source": [
    "array1"
   ]
  },
  {
   "cell_type": "code",
   "execution_count": 145,
   "metadata": {},
   "outputs": [
    {
     "data": {
      "text/plain": [
       "(array([1]), array([1]))"
      ]
     },
     "execution_count": 145,
     "metadata": {},
     "output_type": "execute_result"
    }
   ],
   "source": [
    "# we can use the where() function to find the position of a value in an array\n",
    "np.where(array1 == 4)"
   ]
  },
  {
   "cell_type": "code",
   "execution_count": 146,
   "metadata": {},
   "outputs": [
    {
     "data": {
      "text/plain": [
       "(array([0, 1]), array([1, 1]))"
      ]
     },
     "execution_count": 146,
     "metadata": {},
     "output_type": "execute_result"
    }
   ],
   "source": [
    "# filter for values divisible by 2\n",
    "np.where(array1%2 == 0)"
   ]
  },
  {
   "cell_type": "code",
   "execution_count": 147,
   "metadata": {},
   "outputs": [
    {
     "data": {
      "text/plain": [
       "array([2, 4])"
      ]
     },
     "execution_count": 147,
     "metadata": {},
     "output_type": "execute_result"
    }
   ],
   "source": [
    "# Filtering arrays > state the \"where()\" condition inside an array slice\n",
    "array1[np.where(array1%2 == 0)]"
   ]
  },
  {
   "cell_type": "code",
   "execution_count": 148,
   "metadata": {},
   "outputs": [
    {
     "data": {
      "text/plain": [
       "array([4])"
      ]
     },
     "execution_count": 148,
     "metadata": {},
     "output_type": "execute_result"
    }
   ],
   "source": [
    "array1[np.where(array1 == 4)]"
   ]
  },
  {
   "attachments": {},
   "cell_type": "markdown",
   "metadata": {},
   "source": [
    "### Math operations with an array"
   ]
  },
  {
   "cell_type": "code",
   "execution_count": 150,
   "metadata": {},
   "outputs": [
    {
     "data": {
      "text/plain": [
       "array([[2, 4],\n",
       "       [6, 8]])"
      ]
     },
     "execution_count": 150,
     "metadata": {},
     "output_type": "execute_result"
    }
   ],
   "source": [
    "# with arrays, we can perform operations on the entire array at once\n",
    "array1 * 2"
   ]
  },
  {
   "cell_type": "code",
   "execution_count": 151,
   "metadata": {},
   "outputs": [
    {
     "data": {
      "text/plain": [
       "array([[ 9, 10],\n",
       "       [15, 24]])"
      ]
     },
     "execution_count": 151,
     "metadata": {},
     "output_type": "execute_result"
    }
   ],
   "source": [
    "# NumPy uses element-wise operations to perform math transformations\n",
    "array1 * array2"
   ]
  },
  {
   "cell_type": "code",
   "execution_count": 152,
   "metadata": {},
   "outputs": [
    {
     "data": {
      "text/plain": [
       "array([[1, 2],\n",
       "       [3, 4]])"
      ]
     },
     "execution_count": 152,
     "metadata": {},
     "output_type": "execute_result"
    }
   ],
   "source": [
    "array1"
   ]
  },
  {
   "cell_type": "code",
   "execution_count": 153,
   "metadata": {},
   "outputs": [
    {
     "data": {
      "text/plain": [
       "array([[9, 5],\n",
       "       [5, 6]])"
      ]
     },
     "execution_count": 153,
     "metadata": {},
     "output_type": "execute_result"
    }
   ],
   "source": [
    "array2"
   ]
  },
  {
   "cell_type": "code",
   "execution_count": 154,
   "metadata": {},
   "outputs": [
    {
     "ename": "ValueError",
     "evalue": "operands could not be broadcast together with shapes (2,2) (2,10) ",
     "output_type": "error",
     "traceback": [
      "\u001b[0;31m---------------------------------------------------------------------------\u001b[0m",
      "\u001b[0;31mValueError\u001b[0m                                Traceback (most recent call last)",
      "Cell \u001b[0;32mIn[154], line 3\u001b[0m\n\u001b[1;32m      1\u001b[0m \u001b[39m# your arrays have to have the same shape\u001b[39;00m\n\u001b[0;32m----> 3\u001b[0m array1 \u001b[39m*\u001b[39;49m array_2d\n",
      "\u001b[0;31mValueError\u001b[0m: operands could not be broadcast together with shapes (2,2) (2,10) "
     ]
    }
   ],
   "source": [
    "# your arrays have to have the same shape\n",
    "\n",
    "array1 * array_2d"
   ]
  },
  {
   "cell_type": "code",
   "execution_count": 155,
   "metadata": {},
   "outputs": [
    {
     "data": {
      "text/plain": [
       "array([[ 4,  5,  8,  9, 15, 20, 21, 26, 35, 52],\n",
       "       [ 4,  5,  8,  9, 15, 20, 21, 26, 35, 52]])"
      ]
     },
     "execution_count": 155,
     "metadata": {},
     "output_type": "execute_result"
    }
   ],
   "source": [
    "array_2d"
   ]
  },
  {
   "cell_type": "code",
   "execution_count": 157,
   "metadata": {},
   "outputs": [
    {
     "ename": "ValueError",
     "evalue": "operands could not be broadcast together with shapes (5,2,2) (2,10) ",
     "output_type": "error",
     "traceback": [
      "\u001b[0;31m---------------------------------------------------------------------------\u001b[0m",
      "\u001b[0;31mValueError\u001b[0m                                Traceback (most recent call last)",
      "Cell \u001b[0;32mIn[157], line 1\u001b[0m\n\u001b[0;32m----> 1\u001b[0m array_2d\u001b[39m.\u001b[39;49mreshape(\u001b[39m5\u001b[39;49m,\u001b[39m2\u001b[39;49m,\u001b[39m2\u001b[39;49m) \u001b[39m*\u001b[39;49m array_2d\n",
      "\u001b[0;31mValueError\u001b[0m: operands could not be broadcast together with shapes (5,2,2) (2,10) "
     ]
    }
   ],
   "source": [
    "# two arrays to be combined have to have the same SHAPE, even if they have the same SIZE\n",
    "# SIZE refers to number of elements; SHAPE refers to how the elements are spread in the dimensions\n",
    "\n",
    "array_2d.reshape(5,2,2) * array_2d"
   ]
  },
  {
   "cell_type": "code",
   "execution_count": 162,
   "metadata": {},
   "outputs": [
    {
     "data": {
      "text/plain": [
       "array([[ 7,  8,  6,  9,  8],\n",
       "       [ 9, 10,  5,  6,  3]])"
      ]
     },
     "execution_count": 162,
     "metadata": {},
     "output_type": "execute_result"
    }
   ],
   "source": [
    "# if one of your array is all 1s or 0s, you can broadcast this onto another array\n",
    "np.array([1,1,1,1,1]) + np.array([[6,7,5,8,7],[8,9,4,5,2]])"
   ]
  },
  {
   "attachments": {},
   "cell_type": "markdown",
   "metadata": {},
   "source": [
    "### Generating Random Values with Arrays"
   ]
  },
  {
   "cell_type": "code",
   "execution_count": 165,
   "metadata": {},
   "outputs": [
    {
     "data": {
      "text/plain": [
       "19"
      ]
     },
     "execution_count": 165,
     "metadata": {},
     "output_type": "execute_result"
    }
   ],
   "source": [
    "# generate random integer\n",
    "x = np.random.randint(100)\n",
    "x"
   ]
  },
  {
   "cell_type": "code",
   "execution_count": 166,
   "metadata": {},
   "outputs": [
    {
     "data": {
      "text/plain": [
       "0.13128300362825662"
      ]
     },
     "execution_count": 166,
     "metadata": {},
     "output_type": "execute_result"
    }
   ],
   "source": [
    "# generate random float\n",
    "x = np.random.rand()\n",
    "x"
   ]
  },
  {
   "cell_type": "code",
   "execution_count": 168,
   "metadata": {},
   "outputs": [
    {
     "data": {
      "text/plain": [
       "array([59, 60, 89,  3, 93])"
      ]
     },
     "execution_count": 168,
     "metadata": {},
     "output_type": "execute_result"
    }
   ],
   "source": [
    "# generate a random array\n",
    "x = np.random.randint(100, size=(5))\n",
    "x"
   ]
  },
  {
   "cell_type": "code",
   "execution_count": 169,
   "metadata": {},
   "outputs": [
    {
     "data": {
      "text/plain": [
       "array([[26, 30, 42, 91, 39],\n",
       "       [99, 63, 59, 45, 47],\n",
       "       [64, 58, 89, 51, 32]])"
      ]
     },
     "execution_count": 169,
     "metadata": {},
     "output_type": "execute_result"
    }
   ],
   "source": [
    "# generate a random array\n",
    "x = np.random.randint(100, size=(3,5))\n",
    "x"
   ]
  },
  {
   "cell_type": "code",
   "execution_count": 171,
   "metadata": {},
   "outputs": [
    {
     "data": {
      "text/plain": [
       "array([[2.08273783, 0.14618065, 1.71857274],\n",
       "       [1.01599777, 1.33511841, 1.27511132]])"
      ]
     },
     "execution_count": 171,
     "metadata": {},
     "output_type": "execute_result"
    }
   ],
   "source": [
    "# generate a dataset from a normal distribution\n",
    "# use loc parameter to set the mean, scale to set the stdev, size to set the size of the array\n",
    "x = np.random.normal(loc=1, scale=2, size=(2,3))\n",
    "x"
   ]
  },
  {
   "cell_type": "code",
   "execution_count": 173,
   "metadata": {},
   "outputs": [
    {
     "data": {
      "text/plain": [
       "array([[0.01154123, 0.07389343, 0.37787668],\n",
       "       [0.34854648, 0.16899364, 0.97683514]])"
      ]
     },
     "execution_count": 173,
     "metadata": {},
     "output_type": "execute_result"
    }
   ],
   "source": [
    "# generate data samples from a uniform distribution\n",
    "x = np.random.uniform(size=(2,3))\n",
    "x"
   ]
  },
  {
   "cell_type": "code",
   "execution_count": null,
   "metadata": {},
   "outputs": [],
   "source": []
  }
 ],
 "metadata": {
  "kernelspec": {
   "display_name": "Python 3",
   "language": "python",
   "name": "python3"
  },
  "language_info": {
   "codemirror_mode": {
    "name": "ipython",
    "version": 3
   },
   "file_extension": ".py",
   "mimetype": "text/x-python",
   "name": "python",
   "nbconvert_exporter": "python",
   "pygments_lexer": "ipython3",
   "version": "3.11.4"
  },
  "orig_nbformat": 4
 },
 "nbformat": 4,
 "nbformat_minor": 2
}
