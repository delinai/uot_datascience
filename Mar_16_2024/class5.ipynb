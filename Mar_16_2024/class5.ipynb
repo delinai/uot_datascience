{
 "cells": [
  {
   "cell_type": "code",
   "execution_count": 1,
   "metadata": {},
   "outputs": [],
   "source": [
    "import pandas as pd\n",
    "import numpy as np\n"
   ]
  },
  {
   "cell_type": "code",
   "execution_count": 2,
   "metadata": {},
   "outputs": [],
   "source": [
    "df = pd.read_csv('/Users/delinaivanova/Library/CloudStorage/OneDrive-Personal/UoT/Micro Courses/Python For Data Science/customers_and_transactions.csv')"
   ]
  },
  {
   "cell_type": "code",
   "execution_count": 3,
   "metadata": {},
   "outputs": [
    {
     "data": {
      "text/html": [
       "<div>\n",
       "<style scoped>\n",
       "    .dataframe tbody tr th:only-of-type {\n",
       "        vertical-align: middle;\n",
       "    }\n",
       "\n",
       "    .dataframe tbody tr th {\n",
       "        vertical-align: top;\n",
       "    }\n",
       "\n",
       "    .dataframe thead th {\n",
       "        text-align: right;\n",
       "    }\n",
       "</style>\n",
       "<table border=\"1\" class=\"dataframe\">\n",
       "  <thead>\n",
       "    <tr style=\"text-align: right;\">\n",
       "      <th></th>\n",
       "      <th>customer_id</th>\n",
       "      <th>cust_name</th>\n",
       "      <th>num_products</th>\n",
       "      <th>province</th>\n",
       "      <th>len_relationship</th>\n",
       "      <th>cust_category</th>\n",
       "      <th>txn_id</th>\n",
       "      <th>txn_type</th>\n",
       "      <th>txn_total</th>\n",
       "    </tr>\n",
       "  </thead>\n",
       "  <tbody>\n",
       "    <tr>\n",
       "      <th>0</th>\n",
       "      <td>1001</td>\n",
       "      <td>Johnny Awesome</td>\n",
       "      <td>3</td>\n",
       "      <td>ON</td>\n",
       "      <td>1</td>\n",
       "      <td>wealth</td>\n",
       "      <td>1.0</td>\n",
       "      <td>Debit</td>\n",
       "      <td>165.78</td>\n",
       "    </tr>\n",
       "    <tr>\n",
       "      <th>1</th>\n",
       "      <td>1001</td>\n",
       "      <td>Johnny Awesome</td>\n",
       "      <td>3</td>\n",
       "      <td>ON</td>\n",
       "      <td>1</td>\n",
       "      <td>wealth</td>\n",
       "      <td>2.0</td>\n",
       "      <td>Credit</td>\n",
       "      <td>42.10</td>\n",
       "    </tr>\n",
       "    <tr>\n",
       "      <th>2</th>\n",
       "      <td>1001</td>\n",
       "      <td>Johnny Awesome</td>\n",
       "      <td>3</td>\n",
       "      <td>ON</td>\n",
       "      <td>1</td>\n",
       "      <td>wealth</td>\n",
       "      <td>4.0</td>\n",
       "      <td>Credit</td>\n",
       "      <td>103.03</td>\n",
       "    </tr>\n",
       "    <tr>\n",
       "      <th>3</th>\n",
       "      <td>1001</td>\n",
       "      <td>Johnny Awesome</td>\n",
       "      <td>3</td>\n",
       "      <td>ON</td>\n",
       "      <td>1</td>\n",
       "      <td>wealth</td>\n",
       "      <td>5.0</td>\n",
       "      <td>Credit</td>\n",
       "      <td>56.60</td>\n",
       "    </tr>\n",
       "    <tr>\n",
       "      <th>4</th>\n",
       "      <td>1002</td>\n",
       "      <td>Bob Marley</td>\n",
       "      <td>4</td>\n",
       "      <td>ON</td>\n",
       "      <td>1</td>\n",
       "      <td>personal_banking</td>\n",
       "      <td>6.0</td>\n",
       "      <td>Debit</td>\n",
       "      <td>214.34</td>\n",
       "    </tr>\n",
       "  </tbody>\n",
       "</table>\n",
       "</div>"
      ],
      "text/plain": [
       "   customer_id       cust_name  num_products province  len_relationship  \\\n",
       "0         1001  Johnny Awesome             3       ON                 1   \n",
       "1         1001  Johnny Awesome             3       ON                 1   \n",
       "2         1001  Johnny Awesome             3       ON                 1   \n",
       "3         1001  Johnny Awesome             3       ON                 1   \n",
       "4         1002      Bob Marley             4       ON                 1   \n",
       "\n",
       "      cust_category  txn_id txn_type  txn_total  \n",
       "0            wealth     1.0    Debit     165.78  \n",
       "1            wealth     2.0   Credit      42.10  \n",
       "2            wealth     4.0   Credit     103.03  \n",
       "3            wealth     5.0   Credit      56.60  \n",
       "4  personal_banking     6.0    Debit     214.34  "
      ]
     },
     "execution_count": 3,
     "metadata": {},
     "output_type": "execute_result"
    }
   ],
   "source": [
    "df.head()"
   ]
  },
  {
   "cell_type": "code",
   "execution_count": null,
   "metadata": {},
   "outputs": [],
   "source": [
    "# how to make calculations between columns?\n",
    "# how to create a new column\n",
    "# applying custom functions using apply() and map()\n",
    "# a few more examples of groupby()"
   ]
  },
  {
   "cell_type": "code",
   "execution_count": 6,
   "metadata": {},
   "outputs": [],
   "source": [
    "# how to calculate anything between columns?\n",
    "# average transaction amount by the number of products a customer has?\n",
    "df['avg_txn_amt_per_product'] = df['txn_total'] / df['num_products']"
   ]
  },
  {
   "cell_type": "code",
   "execution_count": 8,
   "metadata": {},
   "outputs": [
    {
     "data": {
      "text/html": [
       "<div>\n",
       "<style scoped>\n",
       "    .dataframe tbody tr th:only-of-type {\n",
       "        vertical-align: middle;\n",
       "    }\n",
       "\n",
       "    .dataframe tbody tr th {\n",
       "        vertical-align: top;\n",
       "    }\n",
       "\n",
       "    .dataframe thead th {\n",
       "        text-align: right;\n",
       "    }\n",
       "</style>\n",
       "<table border=\"1\" class=\"dataframe\">\n",
       "  <thead>\n",
       "    <tr style=\"text-align: right;\">\n",
       "      <th></th>\n",
       "      <th>customer_id</th>\n",
       "      <th>cust_name</th>\n",
       "      <th>num_products</th>\n",
       "      <th>province</th>\n",
       "      <th>len_relationship</th>\n",
       "      <th>cust_category</th>\n",
       "      <th>txn_id</th>\n",
       "      <th>txn_type</th>\n",
       "      <th>txn_total</th>\n",
       "      <th>avg_txn_amt_per_product</th>\n",
       "    </tr>\n",
       "  </thead>\n",
       "  <tbody>\n",
       "    <tr>\n",
       "      <th>0</th>\n",
       "      <td>1001</td>\n",
       "      <td>Johnny Awesome</td>\n",
       "      <td>3</td>\n",
       "      <td>ON</td>\n",
       "      <td>1</td>\n",
       "      <td>wealth</td>\n",
       "      <td>1.0</td>\n",
       "      <td>Debit</td>\n",
       "      <td>165.78</td>\n",
       "      <td>55.260000</td>\n",
       "    </tr>\n",
       "    <tr>\n",
       "      <th>1</th>\n",
       "      <td>1001</td>\n",
       "      <td>Johnny Awesome</td>\n",
       "      <td>3</td>\n",
       "      <td>ON</td>\n",
       "      <td>1</td>\n",
       "      <td>wealth</td>\n",
       "      <td>2.0</td>\n",
       "      <td>Credit</td>\n",
       "      <td>42.10</td>\n",
       "      <td>14.033333</td>\n",
       "    </tr>\n",
       "    <tr>\n",
       "      <th>2</th>\n",
       "      <td>1001</td>\n",
       "      <td>Johnny Awesome</td>\n",
       "      <td>3</td>\n",
       "      <td>ON</td>\n",
       "      <td>1</td>\n",
       "      <td>wealth</td>\n",
       "      <td>4.0</td>\n",
       "      <td>Credit</td>\n",
       "      <td>103.03</td>\n",
       "      <td>34.343333</td>\n",
       "    </tr>\n",
       "    <tr>\n",
       "      <th>3</th>\n",
       "      <td>1001</td>\n",
       "      <td>Johnny Awesome</td>\n",
       "      <td>3</td>\n",
       "      <td>ON</td>\n",
       "      <td>1</td>\n",
       "      <td>wealth</td>\n",
       "      <td>5.0</td>\n",
       "      <td>Credit</td>\n",
       "      <td>56.60</td>\n",
       "      <td>18.866667</td>\n",
       "    </tr>\n",
       "    <tr>\n",
       "      <th>4</th>\n",
       "      <td>1002</td>\n",
       "      <td>Bob Marley</td>\n",
       "      <td>4</td>\n",
       "      <td>ON</td>\n",
       "      <td>1</td>\n",
       "      <td>personal_banking</td>\n",
       "      <td>6.0</td>\n",
       "      <td>Debit</td>\n",
       "      <td>214.34</td>\n",
       "      <td>53.585000</td>\n",
       "    </tr>\n",
       "  </tbody>\n",
       "</table>\n",
       "</div>"
      ],
      "text/plain": [
       "   customer_id       cust_name  num_products province  len_relationship  \\\n",
       "0         1001  Johnny Awesome             3       ON                 1   \n",
       "1         1001  Johnny Awesome             3       ON                 1   \n",
       "2         1001  Johnny Awesome             3       ON                 1   \n",
       "3         1001  Johnny Awesome             3       ON                 1   \n",
       "4         1002      Bob Marley             4       ON                 1   \n",
       "\n",
       "      cust_category  txn_id txn_type  txn_total  avg_txn_amt_per_product  \n",
       "0            wealth     1.0    Debit     165.78                55.260000  \n",
       "1            wealth     2.0   Credit      42.10                14.033333  \n",
       "2            wealth     4.0   Credit     103.03                34.343333  \n",
       "3            wealth     5.0   Credit      56.60                18.866667  \n",
       "4  personal_banking     6.0    Debit     214.34                53.585000  "
      ]
     },
     "execution_count": 8,
     "metadata": {},
     "output_type": "execute_result"
    }
   ],
   "source": [
    "df.head()"
   ]
  },
  {
   "cell_type": "code",
   "execution_count": 9,
   "metadata": {},
   "outputs": [],
   "source": [
    "# multiply the transaction total by 2 and store in a new column\n",
    "\n",
    "df['double_txn_total'] = (2 * df['txn_total']).round(2)"
   ]
  },
  {
   "cell_type": "code",
   "execution_count": 10,
   "metadata": {},
   "outputs": [
    {
     "data": {
      "text/html": [
       "<div>\n",
       "<style scoped>\n",
       "    .dataframe tbody tr th:only-of-type {\n",
       "        vertical-align: middle;\n",
       "    }\n",
       "\n",
       "    .dataframe tbody tr th {\n",
       "        vertical-align: top;\n",
       "    }\n",
       "\n",
       "    .dataframe thead th {\n",
       "        text-align: right;\n",
       "    }\n",
       "</style>\n",
       "<table border=\"1\" class=\"dataframe\">\n",
       "  <thead>\n",
       "    <tr style=\"text-align: right;\">\n",
       "      <th></th>\n",
       "      <th>customer_id</th>\n",
       "      <th>cust_name</th>\n",
       "      <th>num_products</th>\n",
       "      <th>province</th>\n",
       "      <th>len_relationship</th>\n",
       "      <th>cust_category</th>\n",
       "      <th>txn_id</th>\n",
       "      <th>txn_type</th>\n",
       "      <th>txn_total</th>\n",
       "      <th>avg_txn_amt_per_product</th>\n",
       "      <th>double_txn_total</th>\n",
       "    </tr>\n",
       "  </thead>\n",
       "  <tbody>\n",
       "    <tr>\n",
       "      <th>0</th>\n",
       "      <td>1001</td>\n",
       "      <td>Johnny Awesome</td>\n",
       "      <td>3</td>\n",
       "      <td>ON</td>\n",
       "      <td>1</td>\n",
       "      <td>wealth</td>\n",
       "      <td>1.0</td>\n",
       "      <td>Debit</td>\n",
       "      <td>165.78</td>\n",
       "      <td>55.260000</td>\n",
       "      <td>331.56</td>\n",
       "    </tr>\n",
       "    <tr>\n",
       "      <th>1</th>\n",
       "      <td>1001</td>\n",
       "      <td>Johnny Awesome</td>\n",
       "      <td>3</td>\n",
       "      <td>ON</td>\n",
       "      <td>1</td>\n",
       "      <td>wealth</td>\n",
       "      <td>2.0</td>\n",
       "      <td>Credit</td>\n",
       "      <td>42.10</td>\n",
       "      <td>14.033333</td>\n",
       "      <td>84.20</td>\n",
       "    </tr>\n",
       "    <tr>\n",
       "      <th>2</th>\n",
       "      <td>1001</td>\n",
       "      <td>Johnny Awesome</td>\n",
       "      <td>3</td>\n",
       "      <td>ON</td>\n",
       "      <td>1</td>\n",
       "      <td>wealth</td>\n",
       "      <td>4.0</td>\n",
       "      <td>Credit</td>\n",
       "      <td>103.03</td>\n",
       "      <td>34.343333</td>\n",
       "      <td>206.06</td>\n",
       "    </tr>\n",
       "    <tr>\n",
       "      <th>3</th>\n",
       "      <td>1001</td>\n",
       "      <td>Johnny Awesome</td>\n",
       "      <td>3</td>\n",
       "      <td>ON</td>\n",
       "      <td>1</td>\n",
       "      <td>wealth</td>\n",
       "      <td>5.0</td>\n",
       "      <td>Credit</td>\n",
       "      <td>56.60</td>\n",
       "      <td>18.866667</td>\n",
       "      <td>113.20</td>\n",
       "    </tr>\n",
       "    <tr>\n",
       "      <th>4</th>\n",
       "      <td>1002</td>\n",
       "      <td>Bob Marley</td>\n",
       "      <td>4</td>\n",
       "      <td>ON</td>\n",
       "      <td>1</td>\n",
       "      <td>personal_banking</td>\n",
       "      <td>6.0</td>\n",
       "      <td>Debit</td>\n",
       "      <td>214.34</td>\n",
       "      <td>53.585000</td>\n",
       "      <td>428.68</td>\n",
       "    </tr>\n",
       "  </tbody>\n",
       "</table>\n",
       "</div>"
      ],
      "text/plain": [
       "   customer_id       cust_name  num_products province  len_relationship  \\\n",
       "0         1001  Johnny Awesome             3       ON                 1   \n",
       "1         1001  Johnny Awesome             3       ON                 1   \n",
       "2         1001  Johnny Awesome             3       ON                 1   \n",
       "3         1001  Johnny Awesome             3       ON                 1   \n",
       "4         1002      Bob Marley             4       ON                 1   \n",
       "\n",
       "      cust_category  txn_id txn_type  txn_total  avg_txn_amt_per_product  \\\n",
       "0            wealth     1.0    Debit     165.78                55.260000   \n",
       "1            wealth     2.0   Credit      42.10                14.033333   \n",
       "2            wealth     4.0   Credit     103.03                34.343333   \n",
       "3            wealth     5.0   Credit      56.60                18.866667   \n",
       "4  personal_banking     6.0    Debit     214.34                53.585000   \n",
       "\n",
       "   double_txn_total  \n",
       "0            331.56  \n",
       "1             84.20  \n",
       "2            206.06  \n",
       "3            113.20  \n",
       "4            428.68  "
      ]
     },
     "execution_count": 10,
     "metadata": {},
     "output_type": "execute_result"
    }
   ],
   "source": [
    "df.head()"
   ]
  },
  {
   "cell_type": "code",
   "execution_count": 11,
   "metadata": {},
   "outputs": [
    {
     "data": {
      "text/plain": [
       "Index(['customer_id', 'cust_name', 'num_products', 'province',\n",
       "       'len_relationship', 'cust_category', 'txn_id', 'txn_type', 'txn_total',\n",
       "       'avg_txn_amt_per_product', 'double_txn_total'],\n",
       "      dtype='object')"
      ]
     },
     "execution_count": 11,
     "metadata": {},
     "output_type": "execute_result"
    }
   ],
   "source": [
    "df.columns"
   ]
  },
  {
   "cell_type": "code",
   "execution_count": 12,
   "metadata": {},
   "outputs": [],
   "source": [
    "# changing the order -- list all the columns you want in the order you want\n",
    "\n",
    "df = df[['customer_id', 'cust_name', 'num_products', 'province',\n",
    "       'len_relationship', 'cust_category', 'txn_id', 'txn_type', 'txn_total', 'double_txn_total',\n",
    "       'avg_txn_amt_per_product']]"
   ]
  },
  {
   "cell_type": "code",
   "execution_count": 14,
   "metadata": {},
   "outputs": [
    {
     "data": {
      "text/html": [
       "<div>\n",
       "<style scoped>\n",
       "    .dataframe tbody tr th:only-of-type {\n",
       "        vertical-align: middle;\n",
       "    }\n",
       "\n",
       "    .dataframe tbody tr th {\n",
       "        vertical-align: top;\n",
       "    }\n",
       "\n",
       "    .dataframe thead th {\n",
       "        text-align: right;\n",
       "    }\n",
       "</style>\n",
       "<table border=\"1\" class=\"dataframe\">\n",
       "  <thead>\n",
       "    <tr style=\"text-align: right;\">\n",
       "      <th></th>\n",
       "      <th>customer_id</th>\n",
       "      <th>cust_name</th>\n",
       "      <th>num_products</th>\n",
       "      <th>province</th>\n",
       "      <th>len_relationship</th>\n",
       "      <th>cust_category</th>\n",
       "      <th>txn_id</th>\n",
       "      <th>txn_type</th>\n",
       "      <th>txn_total</th>\n",
       "      <th>double_txn_total</th>\n",
       "      <th>avg_txn_amt_per_product</th>\n",
       "    </tr>\n",
       "  </thead>\n",
       "  <tbody>\n",
       "    <tr>\n",
       "      <th>0</th>\n",
       "      <td>1001</td>\n",
       "      <td>Johnny Awesome</td>\n",
       "      <td>3</td>\n",
       "      <td>ON</td>\n",
       "      <td>1</td>\n",
       "      <td>wealth</td>\n",
       "      <td>1.0</td>\n",
       "      <td>Debit</td>\n",
       "      <td>165.78</td>\n",
       "      <td>331.56</td>\n",
       "      <td>55.260000</td>\n",
       "    </tr>\n",
       "    <tr>\n",
       "      <th>1</th>\n",
       "      <td>1001</td>\n",
       "      <td>Johnny Awesome</td>\n",
       "      <td>3</td>\n",
       "      <td>ON</td>\n",
       "      <td>1</td>\n",
       "      <td>wealth</td>\n",
       "      <td>2.0</td>\n",
       "      <td>Credit</td>\n",
       "      <td>42.10</td>\n",
       "      <td>84.20</td>\n",
       "      <td>14.033333</td>\n",
       "    </tr>\n",
       "    <tr>\n",
       "      <th>2</th>\n",
       "      <td>1001</td>\n",
       "      <td>Johnny Awesome</td>\n",
       "      <td>3</td>\n",
       "      <td>ON</td>\n",
       "      <td>1</td>\n",
       "      <td>wealth</td>\n",
       "      <td>4.0</td>\n",
       "      <td>Credit</td>\n",
       "      <td>103.03</td>\n",
       "      <td>206.06</td>\n",
       "      <td>34.343333</td>\n",
       "    </tr>\n",
       "    <tr>\n",
       "      <th>3</th>\n",
       "      <td>1001</td>\n",
       "      <td>Johnny Awesome</td>\n",
       "      <td>3</td>\n",
       "      <td>ON</td>\n",
       "      <td>1</td>\n",
       "      <td>wealth</td>\n",
       "      <td>5.0</td>\n",
       "      <td>Credit</td>\n",
       "      <td>56.60</td>\n",
       "      <td>113.20</td>\n",
       "      <td>18.866667</td>\n",
       "    </tr>\n",
       "    <tr>\n",
       "      <th>4</th>\n",
       "      <td>1002</td>\n",
       "      <td>Bob Marley</td>\n",
       "      <td>4</td>\n",
       "      <td>ON</td>\n",
       "      <td>1</td>\n",
       "      <td>personal_banking</td>\n",
       "      <td>6.0</td>\n",
       "      <td>Debit</td>\n",
       "      <td>214.34</td>\n",
       "      <td>428.68</td>\n",
       "      <td>53.585000</td>\n",
       "    </tr>\n",
       "  </tbody>\n",
       "</table>\n",
       "</div>"
      ],
      "text/plain": [
       "   customer_id       cust_name  num_products province  len_relationship  \\\n",
       "0         1001  Johnny Awesome             3       ON                 1   \n",
       "1         1001  Johnny Awesome             3       ON                 1   \n",
       "2         1001  Johnny Awesome             3       ON                 1   \n",
       "3         1001  Johnny Awesome             3       ON                 1   \n",
       "4         1002      Bob Marley             4       ON                 1   \n",
       "\n",
       "      cust_category  txn_id txn_type  txn_total  double_txn_total  \\\n",
       "0            wealth     1.0    Debit     165.78            331.56   \n",
       "1            wealth     2.0   Credit      42.10             84.20   \n",
       "2            wealth     4.0   Credit     103.03            206.06   \n",
       "3            wealth     5.0   Credit      56.60            113.20   \n",
       "4  personal_banking     6.0    Debit     214.34            428.68   \n",
       "\n",
       "   avg_txn_amt_per_product  \n",
       "0                55.260000  \n",
       "1                14.033333  \n",
       "2                34.343333  \n",
       "3                18.866667  \n",
       "4                53.585000  "
      ]
     },
     "execution_count": 14,
     "metadata": {},
     "output_type": "execute_result"
    }
   ],
   "source": [
    "# what if you have a situation where you want to apply a custom mapping? IF/ELSE statement for example\n",
    "df.head()"
   ]
  },
  {
   "cell_type": "code",
   "execution_count": 23,
   "metadata": {},
   "outputs": [],
   "source": [
    "# in order to apply a custom mapping or transformation to a column, we need a custom function\n",
    "\n",
    "def avg_txn_bucket(x):\n",
    "    if x > 0 and x <= 10:\n",
    "        return 'Low Value Transactions'\n",
    "    elif x > 10 and x <= 30:\n",
    "        return 'Mid Value Transactions'\n",
    "    else:\n",
    "        return 'High Value Transactions'"
   ]
  },
  {
   "cell_type": "code",
   "execution_count": 24,
   "metadata": {},
   "outputs": [
    {
     "name": "stderr",
     "output_type": "stream",
     "text": [
      "/var/folders/m2/nm8j21f569jbcxgbvmghx5gh0000gn/T/ipykernel_35866/1733253127.py:1: SettingWithCopyWarning: \n",
      "A value is trying to be set on a copy of a slice from a DataFrame.\n",
      "Try using .loc[row_indexer,col_indexer] = value instead\n",
      "\n",
      "See the caveats in the documentation: https://pandas.pydata.org/pandas-docs/stable/user_guide/indexing.html#returning-a-view-versus-a-copy\n",
      "  df['Transaction_Bucket'] = df['avg_txn_amt_per_product'].apply(avg_txn_bucket)\n"
     ]
    }
   ],
   "source": [
    "df['Transaction_Bucket'] = df['avg_txn_amt_per_product'].apply(avg_txn_bucket)"
   ]
  },
  {
   "cell_type": "code",
   "execution_count": 26,
   "metadata": {},
   "outputs": [
    {
     "data": {
      "text/html": [
       "<div>\n",
       "<style scoped>\n",
       "    .dataframe tbody tr th:only-of-type {\n",
       "        vertical-align: middle;\n",
       "    }\n",
       "\n",
       "    .dataframe tbody tr th {\n",
       "        vertical-align: top;\n",
       "    }\n",
       "\n",
       "    .dataframe thead th {\n",
       "        text-align: right;\n",
       "    }\n",
       "</style>\n",
       "<table border=\"1\" class=\"dataframe\">\n",
       "  <thead>\n",
       "    <tr style=\"text-align: right;\">\n",
       "      <th></th>\n",
       "      <th>customer_id</th>\n",
       "      <th>cust_name</th>\n",
       "      <th>num_products</th>\n",
       "      <th>province</th>\n",
       "      <th>len_relationship</th>\n",
       "      <th>cust_category</th>\n",
       "      <th>txn_id</th>\n",
       "      <th>txn_type</th>\n",
       "      <th>txn_total</th>\n",
       "      <th>double_txn_total</th>\n",
       "      <th>avg_txn_amt_per_product</th>\n",
       "      <th>Transaction_Bucket</th>\n",
       "    </tr>\n",
       "  </thead>\n",
       "  <tbody>\n",
       "    <tr>\n",
       "      <th>0</th>\n",
       "      <td>1001</td>\n",
       "      <td>Johnny Awesome</td>\n",
       "      <td>3</td>\n",
       "      <td>ON</td>\n",
       "      <td>1</td>\n",
       "      <td>wealth</td>\n",
       "      <td>1.0</td>\n",
       "      <td>Debit</td>\n",
       "      <td>165.78</td>\n",
       "      <td>331.56</td>\n",
       "      <td>55.260000</td>\n",
       "      <td>High Value Transactions</td>\n",
       "    </tr>\n",
       "    <tr>\n",
       "      <th>1</th>\n",
       "      <td>1001</td>\n",
       "      <td>Johnny Awesome</td>\n",
       "      <td>3</td>\n",
       "      <td>ON</td>\n",
       "      <td>1</td>\n",
       "      <td>wealth</td>\n",
       "      <td>2.0</td>\n",
       "      <td>Credit</td>\n",
       "      <td>42.10</td>\n",
       "      <td>84.20</td>\n",
       "      <td>14.033333</td>\n",
       "      <td>Mid Value Transactions</td>\n",
       "    </tr>\n",
       "    <tr>\n",
       "      <th>2</th>\n",
       "      <td>1001</td>\n",
       "      <td>Johnny Awesome</td>\n",
       "      <td>3</td>\n",
       "      <td>ON</td>\n",
       "      <td>1</td>\n",
       "      <td>wealth</td>\n",
       "      <td>4.0</td>\n",
       "      <td>Credit</td>\n",
       "      <td>103.03</td>\n",
       "      <td>206.06</td>\n",
       "      <td>34.343333</td>\n",
       "      <td>High Value Transactions</td>\n",
       "    </tr>\n",
       "    <tr>\n",
       "      <th>3</th>\n",
       "      <td>1001</td>\n",
       "      <td>Johnny Awesome</td>\n",
       "      <td>3</td>\n",
       "      <td>ON</td>\n",
       "      <td>1</td>\n",
       "      <td>wealth</td>\n",
       "      <td>5.0</td>\n",
       "      <td>Credit</td>\n",
       "      <td>56.60</td>\n",
       "      <td>113.20</td>\n",
       "      <td>18.866667</td>\n",
       "      <td>Mid Value Transactions</td>\n",
       "    </tr>\n",
       "    <tr>\n",
       "      <th>4</th>\n",
       "      <td>1002</td>\n",
       "      <td>Bob Marley</td>\n",
       "      <td>4</td>\n",
       "      <td>ON</td>\n",
       "      <td>1</td>\n",
       "      <td>personal_banking</td>\n",
       "      <td>6.0</td>\n",
       "      <td>Debit</td>\n",
       "      <td>214.34</td>\n",
       "      <td>428.68</td>\n",
       "      <td>53.585000</td>\n",
       "      <td>High Value Transactions</td>\n",
       "    </tr>\n",
       "  </tbody>\n",
       "</table>\n",
       "</div>"
      ],
      "text/plain": [
       "   customer_id       cust_name  num_products province  len_relationship  \\\n",
       "0         1001  Johnny Awesome             3       ON                 1   \n",
       "1         1001  Johnny Awesome             3       ON                 1   \n",
       "2         1001  Johnny Awesome             3       ON                 1   \n",
       "3         1001  Johnny Awesome             3       ON                 1   \n",
       "4         1002      Bob Marley             4       ON                 1   \n",
       "\n",
       "      cust_category  txn_id txn_type  txn_total  double_txn_total  \\\n",
       "0            wealth     1.0    Debit     165.78            331.56   \n",
       "1            wealth     2.0   Credit      42.10             84.20   \n",
       "2            wealth     4.0   Credit     103.03            206.06   \n",
       "3            wealth     5.0   Credit      56.60            113.20   \n",
       "4  personal_banking     6.0    Debit     214.34            428.68   \n",
       "\n",
       "   avg_txn_amt_per_product       Transaction_Bucket  \n",
       "0                55.260000  High Value Transactions  \n",
       "1                14.033333   Mid Value Transactions  \n",
       "2                34.343333  High Value Transactions  \n",
       "3                18.866667   Mid Value Transactions  \n",
       "4                53.585000  High Value Transactions  "
      ]
     },
     "execution_count": 26,
     "metadata": {},
     "output_type": "execute_result"
    }
   ],
   "source": [
    "df.head()"
   ]
  },
  {
   "cell_type": "code",
   "execution_count": 36,
   "metadata": {},
   "outputs": [
    {
     "name": "stderr",
     "output_type": "stream",
     "text": [
      "/var/folders/m2/nm8j21f569jbcxgbvmghx5gh0000gn/T/ipykernel_35866/1511239032.py:2: SettingWithCopyWarning: \n",
      "A value is trying to be set on a copy of a slice from a DataFrame.\n",
      "Try using .loc[row_indexer,col_indexer] = value instead\n",
      "\n",
      "See the caveats in the documentation: https://pandas.pydata.org/pandas-docs/stable/user_guide/indexing.html#returning-a-view-versus-a-copy\n",
      "  df['Customer_Value'] = df['len_relationship'].apply(lambda x: 'HVL' if x > 5 else np.nan)\n"
     ]
    }
   ],
   "source": [
    "# identify customers who are high value based on relationship, basically customers with more than 5 years are high value\n",
    "df['Customer_Value'] = df['len_relationship'].apply(lambda x: 'HVL' if x > 5 else np.nan)"
   ]
  },
  {
   "cell_type": "code",
   "execution_count": 40,
   "metadata": {},
   "outputs": [],
   "source": [
    "# what is a good definition?\n",
    "# create a custom function that would identify customers who are high value, that can take more than 1 column into consideration\n",
    "\n",
    "def HVL(transaction_bucket, cust_category):\n",
    "    if transaction_bucket == 'High Value Transactions' and (cust_category == 'wealth' or cust_category == 'hnw'):\n",
    "        return 'HVC'\n",
    "    else:\n",
    "        return 'LVC'\n"
   ]
  },
  {
   "cell_type": "code",
   "execution_count": 44,
   "metadata": {},
   "outputs": [
    {
     "name": "stderr",
     "output_type": "stream",
     "text": [
      "/var/folders/m2/nm8j21f569jbcxgbvmghx5gh0000gn/T/ipykernel_35866/3293734533.py:1: SettingWithCopyWarning: \n",
      "A value is trying to be set on a copy of a slice from a DataFrame.\n",
      "Try using .loc[row_indexer,col_indexer] = value instead\n",
      "\n",
      "See the caveats in the documentation: https://pandas.pydata.org/pandas-docs/stable/user_guide/indexing.html#returning-a-view-versus-a-copy\n",
      "  df['Customer_Value'] = df.apply(lambda x: HVL(x['Transaction_Bucket'], x['cust_category']), axis=1)\n"
     ]
    }
   ],
   "source": [
    "df['Customer_Value'] = df.apply(lambda x: HVL(x['Transaction_Bucket'], x['cust_category']), axis=1)"
   ]
  },
  {
   "cell_type": "code",
   "execution_count": 42,
   "metadata": {},
   "outputs": [
    {
     "data": {
      "text/html": [
       "<div>\n",
       "<style scoped>\n",
       "    .dataframe tbody tr th:only-of-type {\n",
       "        vertical-align: middle;\n",
       "    }\n",
       "\n",
       "    .dataframe tbody tr th {\n",
       "        vertical-align: top;\n",
       "    }\n",
       "\n",
       "    .dataframe thead th {\n",
       "        text-align: right;\n",
       "    }\n",
       "</style>\n",
       "<table border=\"1\" class=\"dataframe\">\n",
       "  <thead>\n",
       "    <tr style=\"text-align: right;\">\n",
       "      <th></th>\n",
       "      <th>customer_id</th>\n",
       "      <th>cust_name</th>\n",
       "      <th>num_products</th>\n",
       "      <th>province</th>\n",
       "      <th>len_relationship</th>\n",
       "      <th>cust_category</th>\n",
       "      <th>txn_id</th>\n",
       "      <th>txn_type</th>\n",
       "      <th>txn_total</th>\n",
       "      <th>double_txn_total</th>\n",
       "      <th>avg_txn_amt_per_product</th>\n",
       "      <th>Transaction_Bucket</th>\n",
       "      <th>Customer_Value</th>\n",
       "    </tr>\n",
       "  </thead>\n",
       "  <tbody>\n",
       "    <tr>\n",
       "      <th>0</th>\n",
       "      <td>1001</td>\n",
       "      <td>Johnny Awesome</td>\n",
       "      <td>3</td>\n",
       "      <td>ON</td>\n",
       "      <td>1</td>\n",
       "      <td>wealth</td>\n",
       "      <td>1.0</td>\n",
       "      <td>Debit</td>\n",
       "      <td>165.78</td>\n",
       "      <td>331.56</td>\n",
       "      <td>55.260000</td>\n",
       "      <td>High Value Transactions</td>\n",
       "      <td>HVC</td>\n",
       "    </tr>\n",
       "    <tr>\n",
       "      <th>1</th>\n",
       "      <td>1001</td>\n",
       "      <td>Johnny Awesome</td>\n",
       "      <td>3</td>\n",
       "      <td>ON</td>\n",
       "      <td>1</td>\n",
       "      <td>wealth</td>\n",
       "      <td>2.0</td>\n",
       "      <td>Credit</td>\n",
       "      <td>42.10</td>\n",
       "      <td>84.20</td>\n",
       "      <td>14.033333</td>\n",
       "      <td>Mid Value Transactions</td>\n",
       "      <td>LVC</td>\n",
       "    </tr>\n",
       "    <tr>\n",
       "      <th>2</th>\n",
       "      <td>1001</td>\n",
       "      <td>Johnny Awesome</td>\n",
       "      <td>3</td>\n",
       "      <td>ON</td>\n",
       "      <td>1</td>\n",
       "      <td>wealth</td>\n",
       "      <td>4.0</td>\n",
       "      <td>Credit</td>\n",
       "      <td>103.03</td>\n",
       "      <td>206.06</td>\n",
       "      <td>34.343333</td>\n",
       "      <td>High Value Transactions</td>\n",
       "      <td>HVC</td>\n",
       "    </tr>\n",
       "    <tr>\n",
       "      <th>3</th>\n",
       "      <td>1001</td>\n",
       "      <td>Johnny Awesome</td>\n",
       "      <td>3</td>\n",
       "      <td>ON</td>\n",
       "      <td>1</td>\n",
       "      <td>wealth</td>\n",
       "      <td>5.0</td>\n",
       "      <td>Credit</td>\n",
       "      <td>56.60</td>\n",
       "      <td>113.20</td>\n",
       "      <td>18.866667</td>\n",
       "      <td>Mid Value Transactions</td>\n",
       "      <td>LVC</td>\n",
       "    </tr>\n",
       "    <tr>\n",
       "      <th>4</th>\n",
       "      <td>1002</td>\n",
       "      <td>Bob Marley</td>\n",
       "      <td>4</td>\n",
       "      <td>ON</td>\n",
       "      <td>1</td>\n",
       "      <td>personal_banking</td>\n",
       "      <td>6.0</td>\n",
       "      <td>Debit</td>\n",
       "      <td>214.34</td>\n",
       "      <td>428.68</td>\n",
       "      <td>53.585000</td>\n",
       "      <td>High Value Transactions</td>\n",
       "      <td>LVC</td>\n",
       "    </tr>\n",
       "  </tbody>\n",
       "</table>\n",
       "</div>"
      ],
      "text/plain": [
       "   customer_id       cust_name  num_products province  len_relationship  \\\n",
       "0         1001  Johnny Awesome             3       ON                 1   \n",
       "1         1001  Johnny Awesome             3       ON                 1   \n",
       "2         1001  Johnny Awesome             3       ON                 1   \n",
       "3         1001  Johnny Awesome             3       ON                 1   \n",
       "4         1002      Bob Marley             4       ON                 1   \n",
       "\n",
       "      cust_category  txn_id txn_type  txn_total  double_txn_total  \\\n",
       "0            wealth     1.0    Debit     165.78            331.56   \n",
       "1            wealth     2.0   Credit      42.10             84.20   \n",
       "2            wealth     4.0   Credit     103.03            206.06   \n",
       "3            wealth     5.0   Credit      56.60            113.20   \n",
       "4  personal_banking     6.0    Debit     214.34            428.68   \n",
       "\n",
       "   avg_txn_amt_per_product       Transaction_Bucket Customer_Value  \n",
       "0                55.260000  High Value Transactions            HVC  \n",
       "1                14.033333   Mid Value Transactions            LVC  \n",
       "2                34.343333  High Value Transactions            HVC  \n",
       "3                18.866667   Mid Value Transactions            LVC  \n",
       "4                53.585000  High Value Transactions            LVC  "
      ]
     },
     "execution_count": 42,
     "metadata": {},
     "output_type": "execute_result"
    }
   ],
   "source": [
    "df.head()"
   ]
  },
  {
   "cell_type": "code",
   "execution_count": 47,
   "metadata": {},
   "outputs": [],
   "source": [
    "mapping_avg_transaction_amt = dict(df.groupby('customer_id')['txn_total'].mean())"
   ]
  },
  {
   "cell_type": "code",
   "execution_count": 50,
   "metadata": {},
   "outputs": [
    {
     "data": {
      "text/plain": [
       "{1001: 91.8775,\n",
       " 1002: 117.13333333333333,\n",
       " 1004: 116.75,\n",
       " 1005: 267.23,\n",
       " 1006: 225.89,\n",
       " 1008: 199.73000000000002,\n",
       " 1014: 233.47666666666666,\n",
       " 1101: nan,\n",
       " 1254: 168.75333333333333,\n",
       " 1285: 270.4666666666667,\n",
       " 1354: 303.29,\n",
       " 1475: 227.4666666666667,\n",
       " 1585: 286.18333333333334}"
      ]
     },
     "execution_count": 50,
     "metadata": {},
     "output_type": "execute_result"
    }
   ],
   "source": [
    "mapping_avg_transaction_amt"
   ]
  },
  {
   "cell_type": "code",
   "execution_count": 48,
   "metadata": {},
   "outputs": [
    {
     "name": "stderr",
     "output_type": "stream",
     "text": [
      "/var/folders/m2/nm8j21f569jbcxgbvmghx5gh0000gn/T/ipykernel_35866/1544839883.py:1: SettingWithCopyWarning: \n",
      "A value is trying to be set on a copy of a slice from a DataFrame.\n",
      "Try using .loc[row_indexer,col_indexer] = value instead\n",
      "\n",
      "See the caveats in the documentation: https://pandas.pydata.org/pandas-docs/stable/user_guide/indexing.html#returning-a-view-versus-a-copy\n",
      "  df['avg_txn_amt_per_cust'] = df['customer_id'].map(mapping_avg_transaction_amt)\n"
     ]
    }
   ],
   "source": [
    "df['avg_txn_amt_per_cust'] = df['customer_id'].map(mapping_avg_transaction_amt)"
   ]
  },
  {
   "cell_type": "code",
   "execution_count": 51,
   "metadata": {},
   "outputs": [],
   "source": [
    "def HVL(avg_txn_amt_per_cust, cust_category):\n",
    "    if avg_txn_amt_per_cust > 50 and (cust_category == 'wealth' or cust_category == 'hnw'):\n",
    "        return 'HVC'\n",
    "    else:\n",
    "        return 'LVC'"
   ]
  },
  {
   "cell_type": "code",
   "execution_count": 52,
   "metadata": {},
   "outputs": [
    {
     "name": "stderr",
     "output_type": "stream",
     "text": [
      "/var/folders/m2/nm8j21f569jbcxgbvmghx5gh0000gn/T/ipykernel_35866/274216984.py:1: SettingWithCopyWarning: \n",
      "A value is trying to be set on a copy of a slice from a DataFrame.\n",
      "Try using .loc[row_indexer,col_indexer] = value instead\n",
      "\n",
      "See the caveats in the documentation: https://pandas.pydata.org/pandas-docs/stable/user_guide/indexing.html#returning-a-view-versus-a-copy\n",
      "  df['Customer_Value'] = df.apply(lambda x: HVL(x['avg_txn_amt_per_cust'], x['cust_category']), axis=1)\n"
     ]
    }
   ],
   "source": [
    "df['Customer_Value'] = df.apply(lambda x: HVL(x['avg_txn_amt_per_cust'], x['cust_category']), axis=1)"
   ]
  },
  {
   "cell_type": "code",
   "execution_count": 54,
   "metadata": {},
   "outputs": [
    {
     "data": {
      "text/html": [
       "<div>\n",
       "<style scoped>\n",
       "    .dataframe tbody tr th:only-of-type {\n",
       "        vertical-align: middle;\n",
       "    }\n",
       "\n",
       "    .dataframe tbody tr th {\n",
       "        vertical-align: top;\n",
       "    }\n",
       "\n",
       "    .dataframe thead th {\n",
       "        text-align: right;\n",
       "    }\n",
       "</style>\n",
       "<table border=\"1\" class=\"dataframe\">\n",
       "  <thead>\n",
       "    <tr style=\"text-align: right;\">\n",
       "      <th></th>\n",
       "      <th>customer_id</th>\n",
       "      <th>cust_name</th>\n",
       "      <th>num_products</th>\n",
       "      <th>province</th>\n",
       "      <th>len_relationship</th>\n",
       "      <th>cust_category</th>\n",
       "      <th>txn_id</th>\n",
       "      <th>txn_type</th>\n",
       "      <th>txn_total</th>\n",
       "      <th>double_txn_total</th>\n",
       "      <th>avg_txn_amt_per_product</th>\n",
       "      <th>Transaction_Bucket</th>\n",
       "      <th>Customer_Value</th>\n",
       "      <th>avg_txn_amt_per_cust</th>\n",
       "    </tr>\n",
       "  </thead>\n",
       "  <tbody>\n",
       "    <tr>\n",
       "      <th>0</th>\n",
       "      <td>1001</td>\n",
       "      <td>Johnny Awesome</td>\n",
       "      <td>3</td>\n",
       "      <td>ON</td>\n",
       "      <td>1</td>\n",
       "      <td>wealth</td>\n",
       "      <td>1.0</td>\n",
       "      <td>Debit</td>\n",
       "      <td>165.78</td>\n",
       "      <td>331.56</td>\n",
       "      <td>55.260000</td>\n",
       "      <td>High Value Transactions</td>\n",
       "      <td>HVC</td>\n",
       "      <td>91.877500</td>\n",
       "    </tr>\n",
       "    <tr>\n",
       "      <th>1</th>\n",
       "      <td>1001</td>\n",
       "      <td>Johnny Awesome</td>\n",
       "      <td>3</td>\n",
       "      <td>ON</td>\n",
       "      <td>1</td>\n",
       "      <td>wealth</td>\n",
       "      <td>2.0</td>\n",
       "      <td>Credit</td>\n",
       "      <td>42.10</td>\n",
       "      <td>84.20</td>\n",
       "      <td>14.033333</td>\n",
       "      <td>Mid Value Transactions</td>\n",
       "      <td>HVC</td>\n",
       "      <td>91.877500</td>\n",
       "    </tr>\n",
       "    <tr>\n",
       "      <th>2</th>\n",
       "      <td>1001</td>\n",
       "      <td>Johnny Awesome</td>\n",
       "      <td>3</td>\n",
       "      <td>ON</td>\n",
       "      <td>1</td>\n",
       "      <td>wealth</td>\n",
       "      <td>4.0</td>\n",
       "      <td>Credit</td>\n",
       "      <td>103.03</td>\n",
       "      <td>206.06</td>\n",
       "      <td>34.343333</td>\n",
       "      <td>High Value Transactions</td>\n",
       "      <td>HVC</td>\n",
       "      <td>91.877500</td>\n",
       "    </tr>\n",
       "    <tr>\n",
       "      <th>3</th>\n",
       "      <td>1001</td>\n",
       "      <td>Johnny Awesome</td>\n",
       "      <td>3</td>\n",
       "      <td>ON</td>\n",
       "      <td>1</td>\n",
       "      <td>wealth</td>\n",
       "      <td>5.0</td>\n",
       "      <td>Credit</td>\n",
       "      <td>56.60</td>\n",
       "      <td>113.20</td>\n",
       "      <td>18.866667</td>\n",
       "      <td>Mid Value Transactions</td>\n",
       "      <td>HVC</td>\n",
       "      <td>91.877500</td>\n",
       "    </tr>\n",
       "    <tr>\n",
       "      <th>4</th>\n",
       "      <td>1002</td>\n",
       "      <td>Bob Marley</td>\n",
       "      <td>4</td>\n",
       "      <td>ON</td>\n",
       "      <td>1</td>\n",
       "      <td>personal_banking</td>\n",
       "      <td>6.0</td>\n",
       "      <td>Debit</td>\n",
       "      <td>214.34</td>\n",
       "      <td>428.68</td>\n",
       "      <td>53.585000</td>\n",
       "      <td>High Value Transactions</td>\n",
       "      <td>LVC</td>\n",
       "      <td>117.133333</td>\n",
       "    </tr>\n",
       "  </tbody>\n",
       "</table>\n",
       "</div>"
      ],
      "text/plain": [
       "   customer_id       cust_name  num_products province  len_relationship  \\\n",
       "0         1001  Johnny Awesome             3       ON                 1   \n",
       "1         1001  Johnny Awesome             3       ON                 1   \n",
       "2         1001  Johnny Awesome             3       ON                 1   \n",
       "3         1001  Johnny Awesome             3       ON                 1   \n",
       "4         1002      Bob Marley             4       ON                 1   \n",
       "\n",
       "      cust_category  txn_id txn_type  txn_total  double_txn_total  \\\n",
       "0            wealth     1.0    Debit     165.78            331.56   \n",
       "1            wealth     2.0   Credit      42.10             84.20   \n",
       "2            wealth     4.0   Credit     103.03            206.06   \n",
       "3            wealth     5.0   Credit      56.60            113.20   \n",
       "4  personal_banking     6.0    Debit     214.34            428.68   \n",
       "\n",
       "   avg_txn_amt_per_product       Transaction_Bucket Customer_Value  \\\n",
       "0                55.260000  High Value Transactions            HVC   \n",
       "1                14.033333   Mid Value Transactions            HVC   \n",
       "2                34.343333  High Value Transactions            HVC   \n",
       "3                18.866667   Mid Value Transactions            HVC   \n",
       "4                53.585000  High Value Transactions            LVC   \n",
       "\n",
       "   avg_txn_amt_per_cust  \n",
       "0             91.877500  \n",
       "1             91.877500  \n",
       "2             91.877500  \n",
       "3             91.877500  \n",
       "4            117.133333  "
      ]
     },
     "execution_count": 54,
     "metadata": {},
     "output_type": "execute_result"
    }
   ],
   "source": [
    "df.head()"
   ]
  },
  {
   "cell_type": "code",
   "execution_count": 58,
   "metadata": {},
   "outputs": [],
   "source": [
    "dict1 = {'Debit':'Visa Debit'}"
   ]
  },
  {
   "cell_type": "code",
   "execution_count": 59,
   "metadata": {},
   "outputs": [
    {
     "name": "stderr",
     "output_type": "stream",
     "text": [
      "/var/folders/m2/nm8j21f569jbcxgbvmghx5gh0000gn/T/ipykernel_35866/3290928166.py:1: SettingWithCopyWarning: \n",
      "A value is trying to be set on a copy of a slice from a DataFrame.\n",
      "Try using .loc[row_indexer,col_indexer] = value instead\n",
      "\n",
      "See the caveats in the documentation: https://pandas.pydata.org/pandas-docs/stable/user_guide/indexing.html#returning-a-view-versus-a-copy\n",
      "  df['txn_type2'] = df['txn_type'].map(dict1)\n"
     ]
    }
   ],
   "source": [
    "df['txn_type2'] = df['txn_type'].map(dict1)"
   ]
  },
  {
   "cell_type": "code",
   "execution_count": 60,
   "metadata": {},
   "outputs": [
    {
     "data": {
      "text/html": [
       "<div>\n",
       "<style scoped>\n",
       "    .dataframe tbody tr th:only-of-type {\n",
       "        vertical-align: middle;\n",
       "    }\n",
       "\n",
       "    .dataframe tbody tr th {\n",
       "        vertical-align: top;\n",
       "    }\n",
       "\n",
       "    .dataframe thead th {\n",
       "        text-align: right;\n",
       "    }\n",
       "</style>\n",
       "<table border=\"1\" class=\"dataframe\">\n",
       "  <thead>\n",
       "    <tr style=\"text-align: right;\">\n",
       "      <th></th>\n",
       "      <th>customer_id</th>\n",
       "      <th>cust_name</th>\n",
       "      <th>num_products</th>\n",
       "      <th>province</th>\n",
       "      <th>len_relationship</th>\n",
       "      <th>cust_category</th>\n",
       "      <th>txn_id</th>\n",
       "      <th>txn_type</th>\n",
       "      <th>txn_total</th>\n",
       "      <th>double_txn_total</th>\n",
       "      <th>avg_txn_amt_per_product</th>\n",
       "      <th>Transaction_Bucket</th>\n",
       "      <th>Customer_Value</th>\n",
       "      <th>avg_txn_amt_per_cust</th>\n",
       "      <th>txn_type2</th>\n",
       "    </tr>\n",
       "  </thead>\n",
       "  <tbody>\n",
       "    <tr>\n",
       "      <th>0</th>\n",
       "      <td>1001</td>\n",
       "      <td>Johnny Awesome</td>\n",
       "      <td>3</td>\n",
       "      <td>ON</td>\n",
       "      <td>1</td>\n",
       "      <td>wealth</td>\n",
       "      <td>1.0</td>\n",
       "      <td>Debit</td>\n",
       "      <td>165.78</td>\n",
       "      <td>331.56</td>\n",
       "      <td>55.260000</td>\n",
       "      <td>High Value Transactions</td>\n",
       "      <td>HVC</td>\n",
       "      <td>91.877500</td>\n",
       "      <td>Visa Debit</td>\n",
       "    </tr>\n",
       "    <tr>\n",
       "      <th>1</th>\n",
       "      <td>1001</td>\n",
       "      <td>Johnny Awesome</td>\n",
       "      <td>3</td>\n",
       "      <td>ON</td>\n",
       "      <td>1</td>\n",
       "      <td>wealth</td>\n",
       "      <td>2.0</td>\n",
       "      <td>Credit</td>\n",
       "      <td>42.10</td>\n",
       "      <td>84.20</td>\n",
       "      <td>14.033333</td>\n",
       "      <td>Mid Value Transactions</td>\n",
       "      <td>HVC</td>\n",
       "      <td>91.877500</td>\n",
       "      <td>NaN</td>\n",
       "    </tr>\n",
       "    <tr>\n",
       "      <th>2</th>\n",
       "      <td>1001</td>\n",
       "      <td>Johnny Awesome</td>\n",
       "      <td>3</td>\n",
       "      <td>ON</td>\n",
       "      <td>1</td>\n",
       "      <td>wealth</td>\n",
       "      <td>4.0</td>\n",
       "      <td>Credit</td>\n",
       "      <td>103.03</td>\n",
       "      <td>206.06</td>\n",
       "      <td>34.343333</td>\n",
       "      <td>High Value Transactions</td>\n",
       "      <td>HVC</td>\n",
       "      <td>91.877500</td>\n",
       "      <td>NaN</td>\n",
       "    </tr>\n",
       "    <tr>\n",
       "      <th>3</th>\n",
       "      <td>1001</td>\n",
       "      <td>Johnny Awesome</td>\n",
       "      <td>3</td>\n",
       "      <td>ON</td>\n",
       "      <td>1</td>\n",
       "      <td>wealth</td>\n",
       "      <td>5.0</td>\n",
       "      <td>Credit</td>\n",
       "      <td>56.60</td>\n",
       "      <td>113.20</td>\n",
       "      <td>18.866667</td>\n",
       "      <td>Mid Value Transactions</td>\n",
       "      <td>HVC</td>\n",
       "      <td>91.877500</td>\n",
       "      <td>NaN</td>\n",
       "    </tr>\n",
       "    <tr>\n",
       "      <th>4</th>\n",
       "      <td>1002</td>\n",
       "      <td>Bob Marley</td>\n",
       "      <td>4</td>\n",
       "      <td>ON</td>\n",
       "      <td>1</td>\n",
       "      <td>personal_banking</td>\n",
       "      <td>6.0</td>\n",
       "      <td>Debit</td>\n",
       "      <td>214.34</td>\n",
       "      <td>428.68</td>\n",
       "      <td>53.585000</td>\n",
       "      <td>High Value Transactions</td>\n",
       "      <td>LVC</td>\n",
       "      <td>117.133333</td>\n",
       "      <td>Visa Debit</td>\n",
       "    </tr>\n",
       "  </tbody>\n",
       "</table>\n",
       "</div>"
      ],
      "text/plain": [
       "   customer_id       cust_name  num_products province  len_relationship  \\\n",
       "0         1001  Johnny Awesome             3       ON                 1   \n",
       "1         1001  Johnny Awesome             3       ON                 1   \n",
       "2         1001  Johnny Awesome             3       ON                 1   \n",
       "3         1001  Johnny Awesome             3       ON                 1   \n",
       "4         1002      Bob Marley             4       ON                 1   \n",
       "\n",
       "      cust_category  txn_id txn_type  txn_total  double_txn_total  \\\n",
       "0            wealth     1.0    Debit     165.78            331.56   \n",
       "1            wealth     2.0   Credit      42.10             84.20   \n",
       "2            wealth     4.0   Credit     103.03            206.06   \n",
       "3            wealth     5.0   Credit      56.60            113.20   \n",
       "4  personal_banking     6.0    Debit     214.34            428.68   \n",
       "\n",
       "   avg_txn_amt_per_product       Transaction_Bucket Customer_Value  \\\n",
       "0                55.260000  High Value Transactions            HVC   \n",
       "1                14.033333   Mid Value Transactions            HVC   \n",
       "2                34.343333  High Value Transactions            HVC   \n",
       "3                18.866667   Mid Value Transactions            HVC   \n",
       "4                53.585000  High Value Transactions            LVC   \n",
       "\n",
       "   avg_txn_amt_per_cust   txn_type2  \n",
       "0             91.877500  Visa Debit  \n",
       "1             91.877500         NaN  \n",
       "2             91.877500         NaN  \n",
       "3             91.877500         NaN  \n",
       "4            117.133333  Visa Debit  "
      ]
     },
     "execution_count": 60,
     "metadata": {},
     "output_type": "execute_result"
    }
   ],
   "source": [
    "df.head()"
   ]
  },
  {
   "cell_type": "code",
   "execution_count": 61,
   "metadata": {},
   "outputs": [
    {
     "name": "stderr",
     "output_type": "stream",
     "text": [
      "/var/folders/m2/nm8j21f569jbcxgbvmghx5gh0000gn/T/ipykernel_35866/438562396.py:1: SettingWithCopyWarning: \n",
      "A value is trying to be set on a copy of a slice from a DataFrame.\n",
      "Try using .loc[row_indexer,col_indexer] = value instead\n",
      "\n",
      "See the caveats in the documentation: https://pandas.pydata.org/pandas-docs/stable/user_guide/indexing.html#returning-a-view-versus-a-copy\n",
      "  df['avg_txn_amnt_all'] = df['txn_total'].mean()\n"
     ]
    }
   ],
   "source": [
    "# calculating a single value and putting it in a new column will populate the entire column\n",
    "df['avg_txn_amnt_all'] = df['txn_total'].mean()"
   ]
  },
  {
   "cell_type": "code",
   "execution_count": 63,
   "metadata": {},
   "outputs": [],
   "source": [
    "def HVL(avg_txn_amt_per_cust, avg_txn_amnt_all, cust_category):\n",
    "    if avg_txn_amt_per_cust > avg_txn_amnt_all and (cust_category == 'wealth' or cust_category == 'hnw'):\n",
    "        return 'HVC'\n",
    "    else:\n",
    "        return 'LVC'"
   ]
  },
  {
   "cell_type": "code",
   "execution_count": 65,
   "metadata": {},
   "outputs": [
    {
     "name": "stderr",
     "output_type": "stream",
     "text": [
      "/var/folders/m2/nm8j21f569jbcxgbvmghx5gh0000gn/T/ipykernel_35866/20801559.py:1: SettingWithCopyWarning: \n",
      "A value is trying to be set on a copy of a slice from a DataFrame.\n",
      "Try using .loc[row_indexer,col_indexer] = value instead\n",
      "\n",
      "See the caveats in the documentation: https://pandas.pydata.org/pandas-docs/stable/user_guide/indexing.html#returning-a-view-versus-a-copy\n",
      "  df['Customer_Value'] = df.apply(lambda x: HVL(x['avg_txn_amt_per_cust'],x['avg_txn_amnt_all'], x['cust_category']), axis=1)\n"
     ]
    }
   ],
   "source": [
    "df['Customer_Value'] = df.apply(lambda x: HVL(x['avg_txn_amt_per_cust'],x['avg_txn_amnt_all'], x['cust_category']), axis=1)"
   ]
  },
  {
   "cell_type": "code",
   "execution_count": 67,
   "metadata": {},
   "outputs": [
    {
     "data": {
      "text/html": [
       "<div>\n",
       "<style scoped>\n",
       "    .dataframe tbody tr th:only-of-type {\n",
       "        vertical-align: middle;\n",
       "    }\n",
       "\n",
       "    .dataframe tbody tr th {\n",
       "        vertical-align: top;\n",
       "    }\n",
       "\n",
       "    .dataframe thead th {\n",
       "        text-align: right;\n",
       "    }\n",
       "</style>\n",
       "<table border=\"1\" class=\"dataframe\">\n",
       "  <thead>\n",
       "    <tr style=\"text-align: right;\">\n",
       "      <th></th>\n",
       "      <th>customer_id</th>\n",
       "      <th>cust_name</th>\n",
       "      <th>num_products</th>\n",
       "      <th>province</th>\n",
       "      <th>len_relationship</th>\n",
       "      <th>cust_category</th>\n",
       "      <th>txn_id</th>\n",
       "      <th>txn_type</th>\n",
       "      <th>txn_total</th>\n",
       "      <th>double_txn_total</th>\n",
       "      <th>avg_txn_amt_per_product</th>\n",
       "      <th>Transaction_Bucket</th>\n",
       "      <th>Customer_Value</th>\n",
       "      <th>avg_txn_amt_per_cust</th>\n",
       "      <th>txn_type2</th>\n",
       "      <th>avg_txn_amnt_all</th>\n",
       "    </tr>\n",
       "  </thead>\n",
       "  <tbody>\n",
       "    <tr>\n",
       "      <th>0</th>\n",
       "      <td>1001</td>\n",
       "      <td>Johnny Awesome</td>\n",
       "      <td>3</td>\n",
       "      <td>ON</td>\n",
       "      <td>1</td>\n",
       "      <td>wealth</td>\n",
       "      <td>1.0</td>\n",
       "      <td>Debit</td>\n",
       "      <td>165.78</td>\n",
       "      <td>331.56</td>\n",
       "      <td>55.260000</td>\n",
       "      <td>High Value Transactions</td>\n",
       "      <td>LVC</td>\n",
       "      <td>91.877500</td>\n",
       "      <td>Visa Debit</td>\n",
       "      <td>207.296765</td>\n",
       "    </tr>\n",
       "    <tr>\n",
       "      <th>1</th>\n",
       "      <td>1001</td>\n",
       "      <td>Johnny Awesome</td>\n",
       "      <td>3</td>\n",
       "      <td>ON</td>\n",
       "      <td>1</td>\n",
       "      <td>wealth</td>\n",
       "      <td>2.0</td>\n",
       "      <td>Credit</td>\n",
       "      <td>42.10</td>\n",
       "      <td>84.20</td>\n",
       "      <td>14.033333</td>\n",
       "      <td>Mid Value Transactions</td>\n",
       "      <td>LVC</td>\n",
       "      <td>91.877500</td>\n",
       "      <td>NaN</td>\n",
       "      <td>207.296765</td>\n",
       "    </tr>\n",
       "    <tr>\n",
       "      <th>2</th>\n",
       "      <td>1001</td>\n",
       "      <td>Johnny Awesome</td>\n",
       "      <td>3</td>\n",
       "      <td>ON</td>\n",
       "      <td>1</td>\n",
       "      <td>wealth</td>\n",
       "      <td>4.0</td>\n",
       "      <td>Credit</td>\n",
       "      <td>103.03</td>\n",
       "      <td>206.06</td>\n",
       "      <td>34.343333</td>\n",
       "      <td>High Value Transactions</td>\n",
       "      <td>LVC</td>\n",
       "      <td>91.877500</td>\n",
       "      <td>NaN</td>\n",
       "      <td>207.296765</td>\n",
       "    </tr>\n",
       "    <tr>\n",
       "      <th>3</th>\n",
       "      <td>1001</td>\n",
       "      <td>Johnny Awesome</td>\n",
       "      <td>3</td>\n",
       "      <td>ON</td>\n",
       "      <td>1</td>\n",
       "      <td>wealth</td>\n",
       "      <td>5.0</td>\n",
       "      <td>Credit</td>\n",
       "      <td>56.60</td>\n",
       "      <td>113.20</td>\n",
       "      <td>18.866667</td>\n",
       "      <td>Mid Value Transactions</td>\n",
       "      <td>LVC</td>\n",
       "      <td>91.877500</td>\n",
       "      <td>NaN</td>\n",
       "      <td>207.296765</td>\n",
       "    </tr>\n",
       "    <tr>\n",
       "      <th>4</th>\n",
       "      <td>1002</td>\n",
       "      <td>Bob Marley</td>\n",
       "      <td>4</td>\n",
       "      <td>ON</td>\n",
       "      <td>1</td>\n",
       "      <td>personal_banking</td>\n",
       "      <td>6.0</td>\n",
       "      <td>Debit</td>\n",
       "      <td>214.34</td>\n",
       "      <td>428.68</td>\n",
       "      <td>53.585000</td>\n",
       "      <td>High Value Transactions</td>\n",
       "      <td>LVC</td>\n",
       "      <td>117.133333</td>\n",
       "      <td>Visa Debit</td>\n",
       "      <td>207.296765</td>\n",
       "    </tr>\n",
       "  </tbody>\n",
       "</table>\n",
       "</div>"
      ],
      "text/plain": [
       "   customer_id       cust_name  num_products province  len_relationship  \\\n",
       "0         1001  Johnny Awesome             3       ON                 1   \n",
       "1         1001  Johnny Awesome             3       ON                 1   \n",
       "2         1001  Johnny Awesome             3       ON                 1   \n",
       "3         1001  Johnny Awesome             3       ON                 1   \n",
       "4         1002      Bob Marley             4       ON                 1   \n",
       "\n",
       "      cust_category  txn_id txn_type  txn_total  double_txn_total  \\\n",
       "0            wealth     1.0    Debit     165.78            331.56   \n",
       "1            wealth     2.0   Credit      42.10             84.20   \n",
       "2            wealth     4.0   Credit     103.03            206.06   \n",
       "3            wealth     5.0   Credit      56.60            113.20   \n",
       "4  personal_banking     6.0    Debit     214.34            428.68   \n",
       "\n",
       "   avg_txn_amt_per_product       Transaction_Bucket Customer_Value  \\\n",
       "0                55.260000  High Value Transactions            LVC   \n",
       "1                14.033333   Mid Value Transactions            LVC   \n",
       "2                34.343333  High Value Transactions            LVC   \n",
       "3                18.866667   Mid Value Transactions            LVC   \n",
       "4                53.585000  High Value Transactions            LVC   \n",
       "\n",
       "   avg_txn_amt_per_cust   txn_type2  avg_txn_amnt_all  \n",
       "0             91.877500  Visa Debit        207.296765  \n",
       "1             91.877500         NaN        207.296765  \n",
       "2             91.877500         NaN        207.296765  \n",
       "3             91.877500         NaN        207.296765  \n",
       "4            117.133333  Visa Debit        207.296765  "
      ]
     },
     "execution_count": 67,
     "metadata": {},
     "output_type": "execute_result"
    }
   ],
   "source": [
    "df.head()"
   ]
  },
  {
   "cell_type": "code",
   "execution_count": 72,
   "metadata": {},
   "outputs": [],
   "source": [
    "import seaborn as sns\n",
    "import matplotlib.pyplot as plt"
   ]
  },
  {
   "cell_type": "code",
   "execution_count": 82,
   "metadata": {},
   "outputs": [
    {
     "data": {
      "text/plain": [
       "<Axes: title={'center': 'Total Txn Amount by Bucket'}, xlabel='Transaction_Bucket', ylabel='txn_amount'>"
      ]
     },
     "execution_count": 82,
     "metadata": {},
     "output_type": "execute_result"
    },
    {
     "data": {
      "image/png": "[encoded data removed]",
      "text/plain": [
       "<Figure size 500x500 with 1 Axes>"
      ]
     },
     "metadata": {},
     "output_type": "display_data"
    }
   ],
   "source": [
    "# pandas plot\n",
    "df.groupby('Transaction_Bucket')['txn_total'].count().plot(kind='bar', title='Total Txn Amount by Bucket', figsize=(5,5), ylabel='txn_amount')"
   ]
  },
  {
   "cell_type": "code",
   "execution_count": 90,
   "metadata": {},
   "outputs": [
    {
     "data": {
      "text/plain": [
       "Transaction_Bucket\n",
       "High Value Transactions    27\n",
       "Low Value Transactions      2\n",
       "Mid Value Transactions      5\n",
       "Name: txn_total, dtype: int64"
      ]
     },
     "execution_count": 90,
     "metadata": {},
     "output_type": "execute_result"
    }
   ],
   "source": [
    "df.groupby('Transaction_Bucket')['txn_total'].count()"
   ]
  },
  {
   "cell_type": "code",
   "execution_count": 96,
   "metadata": {},
   "outputs": [
    {
     "data": {
      "text/plain": [
       "Index(['High Value Transactions', 'Low Value Transactions',\n",
       "       'Mid Value Transactions'],\n",
       "      dtype='object', name='Transaction_Bucket')"
      ]
     },
     "execution_count": 96,
     "metadata": {},
     "output_type": "execute_result"
    }
   ],
   "source": [
    "df.groupby('Transaction_Bucket')['txn_total'].count().index"
   ]
  },
  {
   "cell_type": "code",
   "execution_count": 99,
   "metadata": {},
   "outputs": [
    {
     "data": {
      "text/plain": [
       "Text(0, 0.5, 'txn amount')"
      ]
     },
     "execution_count": 99,
     "metadata": {},
     "output_type": "execute_result"
    },
    {
     "data": {
      "image/png": "[encoded data removed]",
      "text/plain": [
       "<Figure size 500x500 with 1 Axes>"
      ]
     },
     "metadata": {},
     "output_type": "display_data"
    }
   ],
   "source": [
    "plt.figure(figsize=(5,5))\n",
    "plt.bar(df.groupby('Transaction_Bucket')['txn_total'].count().index,df.groupby('Transaction_Bucket')['txn_total'].count(), color='m')\n",
    "plt.title('Txn Amt by Type')\n",
    "plt.xlabel('txn type')\n",
    "plt.ylabel('txn amount')"
   ]
  },
  {
   "cell_type": "code",
   "execution_count": 113,
   "metadata": {},
   "outputs": [
    {
     "data": {
      "text/plain": [
       "<BarContainer object of 35 artists>"
      ]
     },
     "execution_count": 113,
     "metadata": {},
     "output_type": "execute_result"
    },
    {
     "data": {
      "image/png": "[encoded data removed]",
      "text/plain": [
       "<Figure size 640x480 with 1 Axes>"
      ]
     },
     "metadata": {},
     "output_type": "display_data"
    }
   ],
   "source": [
    "plt.plot(df.txn_total, 'r:')\n",
    "plt.bar(df.txn_id, df['avg_txn_amnt_all'], color = 'g')\n",
    "plt.savefig('/filename.jpg')\n"
   ]
  },
  {
   "cell_type": "code",
   "execution_count": 114,
   "metadata": {},
   "outputs": [
    {
     "data": {
      "text/plain": [
       "<Axes: xlabel='txn_type', ylabel='txn_total'>"
      ]
     },
     "execution_count": 114,
     "metadata": {},
     "output_type": "execute_result"
    },
    {
     "data": {
      "image/png": "[encoded data removed]",
      "text/plain": [
       "<Figure size 640x480 with 1 Axes>"
      ]
     },
     "metadata": {},
     "output_type": "display_data"
    }
   ],
   "source": [
    "# is the disribution of transaction amounts different between debit and credit transactions?\n",
    "sns.boxplot(x='txn_type', y='txn_total', data=df)"
   ]
  },
  {
   "cell_type": "code",
   "execution_count": 115,
   "metadata": {},
   "outputs": [
    {
     "data": {
      "text/plain": [
       "Index(['customer_id', 'cust_name', 'num_products', 'province',\n",
       "       'len_relationship', 'cust_category', 'txn_id', 'txn_type', 'txn_total',\n",
       "       'double_txn_total', 'avg_txn_amt_per_product', 'Transaction_Bucket',\n",
       "       'Customer_Value', 'avg_txn_amt_per_cust', 'txn_type2',\n",
       "       'avg_txn_amnt_all'],\n",
       "      dtype='object')"
      ]
     },
     "execution_count": 115,
     "metadata": {},
     "output_type": "execute_result"
    }
   ],
   "source": [
    "df.columns"
   ]
  },
  {
   "cell_type": "code",
   "execution_count": 116,
   "metadata": {},
   "outputs": [
    {
     "data": {
      "text/plain": [
       "<Axes: xlabel='Customer_Value', ylabel='txn_total'>"
      ]
     },
     "execution_count": 116,
     "metadata": {},
     "output_type": "execute_result"
    },
    {
     "data": {
      "image/png": "[encoded data removed]",
      "text/plain": [
       "<Figure size 640x480 with 1 Axes>"
      ]
     },
     "metadata": {},
     "output_type": "display_data"
    }
   ],
   "source": [
    "sns.boxplot(x='Customer_Value', y='txn_total', data=df)"
   ]
  },
  {
   "cell_type": "code",
   "execution_count": 118,
   "metadata": {},
   "outputs": [
    {
     "data": {
      "text/plain": [
       "<Axes: xlabel='txn_total', ylabel='avg_txn_amt_per_cust'>"
      ]
     },
     "execution_count": 118,
     "metadata": {},
     "output_type": "execute_result"
    },
    {
     "data": {
      "image/png": "[encoded data removed]",
      "text/plain": [
       "<Figure size 640x480 with 1 Axes>"
      ]
     },
     "metadata": {},
     "output_type": "display_data"
    }
   ],
   "source": [
    "sns.scatterplot(x=df['txn_total'], y=df['avg_txn_amt_per_cust'])"
   ]
  },
  {
   "cell_type": "code",
   "execution_count": 126,
   "metadata": {},
   "outputs": [
    {
     "data": {
      "text/plain": [
       "<matplotlib.legend.Legend at 0x2ac185d00>"
      ]
     },
     "execution_count": 126,
     "metadata": {},
     "output_type": "execute_result"
    },
    {
     "data": {
      "image/png": "[encoded data removed]",
      "text/plain": [
       "<Figure size 623.611x500 with 1 Axes>"
      ]
     },
     "metadata": {},
     "output_type": "display_data"
    }
   ],
   "source": [
    "sns.lmplot(x='txn_total', y='avg_txn_amt_per_cust', data=df, hue='Customer_Value')\n",
    "plt.legend(loc=2)"
   ]
  },
  {
   "cell_type": "code",
   "execution_count": 122,
   "metadata": {},
   "outputs": [
    {
     "data": {
      "text/plain": [
       "<Axes: xlabel='txn_total', ylabel='avg_txn_amt_per_cust'>"
      ]
     },
     "execution_count": 122,
     "metadata": {},
     "output_type": "execute_result"
    },
    {
     "data": {
      "image/png": "[encoded data removed]",
      "text/plain": [
       "<Figure size 640x480 with 1 Axes>"
      ]
     },
     "metadata": {},
     "output_type": "display_data"
    }
   ],
   "source": [
    "sns.scatterplot(x='txn_total', y='avg_txn_amt_per_cust', data=df, hue='Customer_Value')"
   ]
  },
  {
   "cell_type": "code",
   "execution_count": 127,
   "metadata": {},
   "outputs": [
    {
     "data": {
      "text/plain": [
       "<Axes: xlabel='txn_total', ylabel='Count'>"
      ]
     },
     "execution_count": 127,
     "metadata": {},
     "output_type": "execute_result"
    },
    {
     "data": {
      "image/png": "[encoded data removed]",
      "text/plain": [
       "<Figure size 640x480 with 1 Axes>"
      ]
     },
     "metadata": {},
     "output_type": "display_data"
    }
   ],
   "source": [
    "sns.histplot(df['txn_total'])"
   ]
  },
  {
   "cell_type": "code",
   "execution_count": 129,
   "metadata": {},
   "outputs": [
    {
     "data": {
      "text/plain": [
       "<seaborn.axisgrid.FacetGrid at 0x2ac3a0910>"
      ]
     },
     "execution_count": 129,
     "metadata": {},
     "output_type": "execute_result"
    },
    {
     "data": {
      "image/png": "[encoded data removed]",
      "text/plain": [
       "<Figure size 500x500 with 1 Axes>"
      ]
     },
     "metadata": {},
     "output_type": "display_data"
    }
   ],
   "source": [
    "sns.displot(df['txn_total'], kind='kde')"
   ]
  },
  {
   "cell_type": "code",
   "execution_count": null,
   "metadata": {},
   "outputs": [],
   "source": []
  }
 ],
 "metadata": {
  "kernelspec": {
   "display_name": "Python 3",
   "language": "python",
   "name": "python3"
  },
  "language_info": {
   "codemirror_mode": {
    "name": "ipython",
    "version": 3
   },
   "file_extension": ".py",
   "mimetype": "text/x-python",
   "name": "python",
   "nbconvert_exporter": "python",
   "pygments_lexer": "ipython3",
   "version": "3.9.6"
  }
 },
 "nbformat": 4,
 "nbformat_minor": 2
}
