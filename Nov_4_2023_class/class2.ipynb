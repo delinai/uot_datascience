{
 "cells": [
  {
   "cell_type": "markdown",
   "metadata": {},
   "source": [
    "### Tuples, Dictionaries, Sets"
   ]
  },
  {
   "cell_type": "code",
   "execution_count": 12,
   "metadata": {},
   "outputs": [],
   "source": [
    "list_1 = [1,2,5,58,15,8,25,9,87,54,58,6,98]"
   ]
  },
  {
   "cell_type": "code",
   "execution_count": 6,
   "metadata": {},
   "outputs": [
    {
     "data": {
      "text/plain": [
       "87"
      ]
     },
     "execution_count": 6,
     "metadata": {},
     "output_type": "execute_result"
    }
   ],
   "source": [
    "list_1[5]"
   ]
  },
  {
   "cell_type": "code",
   "execution_count": 10,
   "metadata": {},
   "outputs": [
    {
     "data": {
      "text/plain": [
       "8"
      ]
     },
     "execution_count": 10,
     "metadata": {},
     "output_type": "execute_result"
    }
   ],
   "source": [
    "list_1.index(87)"
   ]
  },
  {
   "cell_type": "code",
   "execution_count": 7,
   "metadata": {},
   "outputs": [
    {
     "data": {
      "text/plain": [
       "[87, 54, 6]"
      ]
     },
     "execution_count": 7,
     "metadata": {},
     "output_type": "execute_result"
    }
   ],
   "source": [
    "list_1[5:]"
   ]
  },
  {
   "cell_type": "code",
   "execution_count": 13,
   "metadata": {},
   "outputs": [
    {
     "data": {
      "text/plain": [
       "[87, 54, 58, 6, 98]"
      ]
     },
     "execution_count": 13,
     "metadata": {},
     "output_type": "execute_result"
    }
   ],
   "source": [
    "# use the index() function to dynamically find a position; you can put the index() function inside a slice, as long as the output is an integer\n",
    "list_1[list_1.index(87):]"
   ]
  },
  {
   "cell_type": "code",
   "execution_count": 14,
   "metadata": {},
   "outputs": [],
   "source": [
    "# Intro to tuples\n",
    "\n",
    "tuple_1 = (58,65,84,87,12,59,87,25)"
   ]
  },
  {
   "cell_type": "code",
   "execution_count": 15,
   "metadata": {},
   "outputs": [
    {
     "data": {
      "text/plain": [
       "(58, 65, 84, 87, 12, 59, 87, 25)"
      ]
     },
     "execution_count": 15,
     "metadata": {},
     "output_type": "execute_result"
    }
   ],
   "source": [
    "tuple_1"
   ]
  },
  {
   "cell_type": "code",
   "execution_count": 16,
   "metadata": {},
   "outputs": [
    {
     "data": {
      "text/plain": [
       "[1, 2, 5, 58, 15, 8, 25, 9, 87, 54, 58, 6, 98]"
      ]
     },
     "execution_count": 16,
     "metadata": {},
     "output_type": "execute_result"
    }
   ],
   "source": [
    "list_1"
   ]
  },
  {
   "cell_type": "code",
   "execution_count": 17,
   "metadata": {},
   "outputs": [],
   "source": [
    "# lists are mutable; I can change the values in a list by replacing, adding or removing\n",
    "list_1[0] = 10"
   ]
  },
  {
   "cell_type": "code",
   "execution_count": 18,
   "metadata": {},
   "outputs": [
    {
     "data": {
      "text/plain": [
       "[10, 2, 5, 58, 15, 8, 25, 9, 87, 54, 58, 6, 98]"
      ]
     },
     "execution_count": 18,
     "metadata": {},
     "output_type": "execute_result"
    }
   ],
   "source": [
    "list_1"
   ]
  },
  {
   "cell_type": "code",
   "execution_count": 19,
   "metadata": {},
   "outputs": [
    {
     "ename": "TypeError",
     "evalue": "'tuple' object does not support item assignment",
     "output_type": "error",
     "traceback": [
      "\u001b[0;31m---------------------------------------------------------------------------\u001b[0m",
      "\u001b[0;31mTypeError\u001b[0m                                 Traceback (most recent call last)",
      "\u001b[1;32m/delinai/uot_datascience/Nov_4_2023_class/class2.ipynb Cell 12\u001b[0m line \u001b[0;36m1\n\u001b[0;32m----> <a href='vscode-notebook-cell://github/delinai/uot_datascience/Nov_4_2023_class/class2.ipynb#X14sdnNjb2RlLXZmcw%3D%3D?line=0'>1</a>\u001b[0m tuple_1[\u001b[39m0\u001b[39;49m] \u001b[39m=\u001b[39m \u001b[39m10\u001b[39m\n",
      "\u001b[0;31mTypeError\u001b[0m: 'tuple' object does not support item assignment"
     ]
    }
   ],
   "source": [
    "# on the other hand, tuples do not support item assignment\n",
    "tuple_1[0] = 10"
   ]
  },
  {
   "cell_type": "code",
   "execution_count": 20,
   "metadata": {},
   "outputs": [
    {
     "ename": "AttributeError",
     "evalue": "'tuple' object has no attribute 'append'",
     "output_type": "error",
     "traceback": [
      "\u001b[0;31m---------------------------------------------------------------------------\u001b[0m",
      "\u001b[0;31mAttributeError\u001b[0m                            Traceback (most recent call last)",
      "\u001b[1;32m/delinai/uot_datascience/Nov_4_2023_class/class2.ipynb Cell 13\u001b[0m line \u001b[0;36m1\n\u001b[0;32m----> <a href='vscode-notebook-cell://github/delinai/uot_datascience/Nov_4_2023_class/class2.ipynb#X15sdnNjb2RlLXZmcw%3D%3D?line=0'>1</a>\u001b[0m tuple_1\u001b[39m.\u001b[39;49mappend(\u001b[39m13\u001b[39m)\n",
      "\u001b[0;31mAttributeError\u001b[0m: 'tuple' object has no attribute 'append'"
     ]
    }
   ],
   "source": [
    "tuple_1.append(13)"
   ]
  },
  {
   "cell_type": "code",
   "execution_count": 21,
   "metadata": {},
   "outputs": [
    {
     "data": {
      "text/plain": [
       "1"
      ]
     },
     "execution_count": 21,
     "metadata": {},
     "output_type": "execute_result"
    }
   ],
   "source": [
    "# tuples only have 2 functions/methods available called count() and index() with the same functionality as lists\n",
    "tuple_1.count(58)"
   ]
  },
  {
   "cell_type": "code",
   "execution_count": 22,
   "metadata": {},
   "outputs": [
    {
     "data": {
      "text/plain": [
       "0"
      ]
     },
     "execution_count": 22,
     "metadata": {},
     "output_type": "execute_result"
    }
   ],
   "source": [
    "tuple_1.index(58)"
   ]
  },
  {
   "cell_type": "code",
   "execution_count": 23,
   "metadata": {},
   "outputs": [
    {
     "data": {
      "text/plain": [
       "58"
      ]
     },
     "execution_count": 23,
     "metadata": {},
     "output_type": "execute_result"
    }
   ],
   "source": [
    "# we can still slice tuples the same way we can slice lists\n",
    "tuple_1[0]"
   ]
  },
  {
   "cell_type": "code",
   "execution_count": 24,
   "metadata": {},
   "outputs": [
    {
     "data": {
      "text/plain": [
       "3"
      ]
     },
     "execution_count": 24,
     "metadata": {},
     "output_type": "execute_result"
    }
   ],
   "source": [
    "list_1.index(58)"
   ]
  },
  {
   "cell_type": "code",
   "execution_count": 25,
   "metadata": {},
   "outputs": [],
   "source": [
    "# Let's review Sets\n",
    "\n",
    "set_1 = {15,25,28,45,65,98,100}"
   ]
  },
  {
   "cell_type": "code",
   "execution_count": 26,
   "metadata": {},
   "outputs": [
    {
     "ename": "TypeError",
     "evalue": "'set' object is not subscriptable",
     "output_type": "error",
     "traceback": [
      "\u001b[0;31m---------------------------------------------------------------------------\u001b[0m",
      "\u001b[0;31mTypeError\u001b[0m                                 Traceback (most recent call last)",
      "\u001b[1;32m/delinai/uot_datascience/Nov_4_2023_class/class2.ipynb Cell 19\u001b[0m line \u001b[0;36m1\n\u001b[0;32m----> <a href='vscode-notebook-cell://github/delinai/uot_datascience/Nov_4_2023_class/class2.ipynb#X24sdnNjb2RlLXZmcw%3D%3D?line=0'>1</a>\u001b[0m set_1[\u001b[39m0\u001b[39;49m]\n",
      "\u001b[0;31mTypeError\u001b[0m: 'set' object is not subscriptable"
     ]
    }
   ],
   "source": [
    "# sets do not support slicing\n",
    "set_1[0]"
   ]
  },
  {
   "cell_type": "code",
   "execution_count": 27,
   "metadata": {},
   "outputs": [
    {
     "data": {
      "text/plain": [
       "{2, 5, 6, 8, 9, 10, 15, 25, 54, 58, 87, 98}"
      ]
     },
     "execution_count": 27,
     "metadata": {},
     "output_type": "execute_result"
    }
   ],
   "source": [
    "# we can use the set() function to convert one object to a set, and it will sort smallest to largest and remove duplicates\n",
    "set(list_1)"
   ]
  },
  {
   "cell_type": "code",
   "execution_count": 28,
   "metadata": {},
   "outputs": [
    {
     "data": {
      "text/plain": [
       "(10, 2, 5, 58, 15, 8, 25, 9, 87, 54, 58, 6, 98)"
      ]
     },
     "execution_count": 28,
     "metadata": {},
     "output_type": "execute_result"
    }
   ],
   "source": [
    "# similarly we can use the tuple function to convert a list to a tuple\n",
    "tuple(list_1)"
   ]
  },
  {
   "cell_type": "code",
   "execution_count": 29,
   "metadata": {},
   "outputs": [
    {
     "data": {
      "text/plain": [
       "[58, 65, 84, 87, 12, 59, 87, 25]"
      ]
     },
     "execution_count": 29,
     "metadata": {},
     "output_type": "execute_result"
    }
   ],
   "source": [
    "# use the list function to convert a set or tuple to a list\n",
    "list(tuple_1)"
   ]
  },
  {
   "cell_type": "code",
   "execution_count": 38,
   "metadata": {},
   "outputs": [],
   "source": [
    "# let's define two sets of customer lists - suppose we're looking for unique customers who shop across multiple stores\n",
    "set_cust_store1 = {'Anna', 'Mike', 'Chris', 'John'}\n",
    "set_cust_store2 = {'Anna', 'Mike','Jacob', 'Marie', 'Lauren'}"
   ]
  },
  {
   "cell_type": "code",
   "execution_count": 31,
   "metadata": {},
   "outputs": [
    {
     "data": {
      "text/plain": [
       "{'Chris', 'John'}"
      ]
     },
     "execution_count": 31,
     "metadata": {},
     "output_type": "execute_result"
    }
   ],
   "source": [
    "# use the difference() function to find the customers who are in Set 1 but NOT in set 2\n",
    "set_cust_store1.difference(set_cust_store2)"
   ]
  },
  {
   "cell_type": "code",
   "execution_count": 32,
   "metadata": {},
   "outputs": [
    {
     "data": {
      "text/plain": [
       "{'Jacob', 'Lauren', 'Marie'}"
      ]
     },
     "execution_count": 32,
     "metadata": {},
     "output_type": "execute_result"
    }
   ],
   "source": [
    "# use the difference() function to find the customers who are in Set 2 but NOT in set 1\n",
    "set_cust_store2.difference(set_cust_store1)"
   ]
  },
  {
   "cell_type": "code",
   "execution_count": 34,
   "metadata": {},
   "outputs": [
    {
     "data": {
      "text/plain": [
       "{'Anna', 'Mike'}"
      ]
     },
     "execution_count": 34,
     "metadata": {},
     "output_type": "execute_result"
    }
   ],
   "source": [
    "# use intersection() to see which customers in set 1 show up also in set 2\n",
    "set_cust_store1.intersection(set_cust_store2)"
   ]
  },
  {
   "cell_type": "code",
   "execution_count": 36,
   "metadata": {},
   "outputs": [],
   "source": [
    "# use difference_update() to keep only the values in the first set which are NOT found in set 2\n",
    "set_cust_store1.difference_update(set_cust_store2)"
   ]
  },
  {
   "cell_type": "code",
   "execution_count": 37,
   "metadata": {},
   "outputs": [
    {
     "data": {
      "text/plain": [
       "{'Chris', 'John'}"
      ]
     },
     "execution_count": 37,
     "metadata": {},
     "output_type": "execute_result"
    }
   ],
   "source": [
    "set_cust_store1"
   ]
  },
  {
   "cell_type": "code",
   "execution_count": 39,
   "metadata": {},
   "outputs": [
    {
     "data": {
      "text/plain": [
       "False"
      ]
     },
     "execution_count": 39,
     "metadata": {},
     "output_type": "execute_result"
    }
   ],
   "source": [
    "# issubset() will show me whether one set can be found inside another\n",
    "set_cust_store1.issubset(set_cust_store2)"
   ]
  },
  {
   "cell_type": "code",
   "execution_count": 40,
   "metadata": {},
   "outputs": [
    {
     "data": {
      "text/plain": [
       "False"
      ]
     },
     "execution_count": 40,
     "metadata": {},
     "output_type": "execute_result"
    }
   ],
   "source": [
    "# issubset() will show me whether one set contains another set\n",
    "set_cust_store1.issuperset(set_cust_store2)"
   ]
  },
  {
   "cell_type": "code",
   "execution_count": 41,
   "metadata": {},
   "outputs": [],
   "source": [
    "set1 = {1,2,3}\n",
    "set2 = {1,2,3,4,5,6}"
   ]
  },
  {
   "cell_type": "code",
   "execution_count": 42,
   "metadata": {},
   "outputs": [
    {
     "data": {
      "text/plain": [
       "True"
      ]
     },
     "execution_count": 42,
     "metadata": {},
     "output_type": "execute_result"
    }
   ],
   "source": [
    "set1.issubset(set2)"
   ]
  },
  {
   "cell_type": "code",
   "execution_count": 43,
   "metadata": {},
   "outputs": [
    {
     "data": {
      "text/plain": [
       "True"
      ]
     },
     "execution_count": 43,
     "metadata": {},
     "output_type": "execute_result"
    }
   ],
   "source": [
    "set2.issuperset(set1)"
   ]
  },
  {
   "cell_type": "code",
   "execution_count": 44,
   "metadata": {},
   "outputs": [],
   "source": [
    "# Let's move on to Dictionary types; while dictionaries also use curly brackets, they have key:value pairs\n",
    "dict_1 = {\"ON\":\"Toronto\", \"QC\":\"Quebec City\", \"BC\":\"Winnipeg\", \"BC\":\"Victoria\"}"
   ]
  },
  {
   "cell_type": "code",
   "execution_count": 45,
   "metadata": {},
   "outputs": [
    {
     "data": {
      "text/plain": [
       "'Toronto'"
      ]
     },
     "execution_count": 45,
     "metadata": {},
     "output_type": "execute_result"
    }
   ],
   "source": [
    "# when slicing a dictionary, unlike lists and tuples which take position values, we slice a dictionary based on the KEY value\n",
    "dict_1[\"ON\"]"
   ]
  },
  {
   "cell_type": "code",
   "execution_count": 46,
   "metadata": {},
   "outputs": [],
   "source": [
    "# the way we add new items to the dictionary is by referencing a key that doesn't exist\n",
    "dict_1[\"SK\"] = \"Regina\""
   ]
  },
  {
   "cell_type": "code",
   "execution_count": 47,
   "metadata": {},
   "outputs": [
    {
     "data": {
      "text/plain": [
       "{'ON': 'Toronto', 'QC': 'Quebec City', 'BC': 'Victoria', 'SK': 'Regina'}"
      ]
     },
     "execution_count": 47,
     "metadata": {},
     "output_type": "execute_result"
    }
   ],
   "source": [
    "dict_1"
   ]
  },
  {
   "cell_type": "code",
   "execution_count": 48,
   "metadata": {},
   "outputs": [
    {
     "data": {
      "text/plain": [
       "'Victoria'"
      ]
     },
     "execution_count": 48,
     "metadata": {},
     "output_type": "execute_result"
    }
   ],
   "source": [
    "# we can use pop() to remove a key/value pair\n",
    "dict_1.pop(\"BC\")"
   ]
  },
  {
   "cell_type": "code",
   "execution_count": 49,
   "metadata": {},
   "outputs": [
    {
     "data": {
      "text/plain": [
       "{'ON': 'Toronto', 'QC': 'Quebec City', 'SK': 'Regina'}"
      ]
     },
     "execution_count": 49,
     "metadata": {},
     "output_type": "execute_result"
    }
   ],
   "source": [
    "dict_1"
   ]
  },
  {
   "cell_type": "code",
   "execution_count": 50,
   "metadata": {},
   "outputs": [
    {
     "data": {
      "text/plain": [
       "dict_keys(['ON', 'QC', 'SK'])"
      ]
     },
     "execution_count": 50,
     "metadata": {},
     "output_type": "execute_result"
    }
   ],
   "source": [
    "# see all the keys at once using the keys() attribute\n",
    "dict_1.keys()"
   ]
  },
  {
   "cell_type": "code",
   "execution_count": 51,
   "metadata": {},
   "outputs": [
    {
     "data": {
      "text/plain": [
       "dict_values(['Toronto', 'Quebec City', 'Regina'])"
      ]
     },
     "execution_count": 51,
     "metadata": {},
     "output_type": "execute_result"
    }
   ],
   "source": [
    "# see all the values at once using the values() attribute\n",
    "dict_1.values()"
   ]
  },
  {
   "cell_type": "code",
   "execution_count": 54,
   "metadata": {},
   "outputs": [
    {
     "data": {
      "text/plain": [
       "dict_items([('ON', 'Toronto'), ('QC', 'Quebec City'), ('SK', 'Regina')])"
      ]
     },
     "execution_count": 54,
     "metadata": {},
     "output_type": "execute_result"
    }
   ],
   "source": [
    "# see key value pairs at once using items()\n",
    "dict_1.items()"
   ]
  },
  {
   "cell_type": "markdown",
   "metadata": {},
   "source": [
    "### Iteration"
   ]
  },
  {
   "cell_type": "code",
   "execution_count": 55,
   "metadata": {},
   "outputs": [
    {
     "data": {
      "text/plain": [
       "[10, 2, 5, 58, 15, 8, 25, 9, 87, 54, 58, 6, 98]"
      ]
     },
     "execution_count": 55,
     "metadata": {},
     "output_type": "execute_result"
    }
   ],
   "source": [
    "list_1"
   ]
  },
  {
   "cell_type": "code",
   "execution_count": 57,
   "metadata": {},
   "outputs": [
    {
     "data": {
      "text/plain": [
       "10"
      ]
     },
     "execution_count": 57,
     "metadata": {},
     "output_type": "execute_result"
    }
   ],
   "source": [
    "# suppose we wanted to multiply each value in a list by 2, the following is very inefficient\n",
    "list_1[0]*2\n",
    "list_1[1]*2\n",
    "list_1[2]*2"
   ]
  },
  {
   "cell_type": "code",
   "execution_count": 59,
   "metadata": {},
   "outputs": [
    {
     "name": "stdout",
     "output_type": "stream",
     "text": [
      "20\n",
      "4\n",
      "10\n",
      "116\n",
      "30\n",
      "16\n",
      "50\n",
      "18\n",
      "174\n",
      "108\n",
      "116\n",
      "12\n",
      "196\n"
     ]
    }
   ],
   "source": [
    "# instead of that, we can use a For Loop\n",
    "for each_item in list_1:\n",
    "    print(each_item*2)"
   ]
  },
  {
   "cell_type": "code",
   "execution_count": 61,
   "metadata": {},
   "outputs": [
    {
     "name": "stdout",
     "output_type": "stream",
     "text": [
      "12\n",
      "20\n",
      "10*2 is equal to 20\n",
      "4\n",
      "4\n",
      "2*2 is equal to 4\n",
      "7\n",
      "10\n",
      "5*2 is equal to 10\n",
      "60\n",
      "116\n",
      "58*2 is equal to 116\n",
      "17\n",
      "30\n",
      "15*2 is equal to 30\n",
      "10\n",
      "16\n",
      "8*2 is equal to 16\n",
      "27\n",
      "50\n",
      "25*2 is equal to 50\n",
      "11\n",
      "18\n",
      "9*2 is equal to 18\n",
      "89\n",
      "174\n",
      "87*2 is equal to 174\n",
      "56\n",
      "108\n",
      "54*2 is equal to 108\n",
      "60\n",
      "116\n",
      "58*2 is equal to 116\n",
      "8\n",
      "12\n",
      "6*2 is equal to 12\n",
      "100\n",
      "196\n",
      "98*2 is equal to 196\n"
     ]
    }
   ],
   "source": [
    "# the syntax says \"for every value in specified object, perform some action\"\n",
    "for i in list_1:\n",
    "    print(i+2)\n",
    "    print(i*2)\n",
    "    print(f\"{i}*2 is equal to {i*2}\")\n"
   ]
  },
  {
   "cell_type": "code",
   "execution_count": 63,
   "metadata": {},
   "outputs": [],
   "source": [
    "list_1[0] = list_1[0]*2"
   ]
  },
  {
   "cell_type": "code",
   "execution_count": 64,
   "metadata": {},
   "outputs": [
    {
     "data": {
      "text/plain": [
       "[20, 2, 5, 58, 15, 8, 25, 9, 87, 54, 58, 6, 98]"
      ]
     },
     "execution_count": 64,
     "metadata": {},
     "output_type": "execute_result"
    }
   ],
   "source": [
    "list_1"
   ]
  },
  {
   "cell_type": "code",
   "execution_count": 65,
   "metadata": {},
   "outputs": [],
   "source": [
    "# Write a for-loop statement which can REPLACE the values in the list with the value multiplied by 2\n",
    "for i in list_1:\n",
    "    i *= 2"
   ]
  },
  {
   "cell_type": "code",
   "execution_count": 66,
   "metadata": {},
   "outputs": [
    {
     "data": {
      "text/plain": [
       "[20, 2, 5, 58, 15, 8, 25, 9, 87, 54, 58, 6, 98]"
      ]
     },
     "execution_count": 66,
     "metadata": {},
     "output_type": "execute_result"
    }
   ],
   "source": [
    "list_1"
   ]
  },
  {
   "cell_type": "code",
   "execution_count": 68,
   "metadata": {},
   "outputs": [
    {
     "name": "stdout",
     "output_type": "stream",
     "text": [
      "40\n",
      "4\n",
      "10\n",
      "116\n",
      "30\n",
      "16\n",
      "50\n",
      "18\n",
      "174\n",
      "108\n",
      "116\n",
      "12\n",
      "196\n"
     ]
    }
   ],
   "source": [
    "for i in list_1:\n",
    "    print(i*2)"
   ]
  },
  {
   "cell_type": "code",
   "execution_count": 69,
   "metadata": {},
   "outputs": [
    {
     "data": {
      "text/plain": [
       "[20, 2, 5, 58, 15, 8, 25, 9, 87, 54, 58, 6, 98]"
      ]
     },
     "execution_count": 69,
     "metadata": {},
     "output_type": "execute_result"
    }
   ],
   "source": [
    "list_1"
   ]
  },
  {
   "cell_type": "code",
   "execution_count": 70,
   "metadata": {},
   "outputs": [
    {
     "data": {
      "text/plain": [
       "0"
      ]
     },
     "execution_count": 70,
     "metadata": {},
     "output_type": "execute_result"
    }
   ],
   "source": [
    "list_1.index(20)"
   ]
  },
  {
   "cell_type": "code",
   "execution_count": null,
   "metadata": {},
   "outputs": [],
   "source": [
    "#list_1[position] = list_1[position]*2"
   ]
  },
  {
   "cell_type": "code",
   "execution_count": 71,
   "metadata": {},
   "outputs": [],
   "source": [
    "for i in list_1:\n",
    "    list_1[list_1.index(i)] *= 2"
   ]
  },
  {
   "cell_type": "code",
   "execution_count": 72,
   "metadata": {},
   "outputs": [
    {
     "data": {
      "text/plain": [
       "[40, 4, 10, 116, 30, 16, 50, 18, 174, 108, 116, 12, 196]"
      ]
     },
     "execution_count": 72,
     "metadata": {},
     "output_type": "execute_result"
    }
   ],
   "source": [
    "list_1"
   ]
  },
  {
   "cell_type": "code",
   "execution_count": 73,
   "metadata": {},
   "outputs": [],
   "source": [
    "# let's say I want to multiply everything by 2, but I don't want to replace the values in my existing list. I want to create a new list\n",
    "\n",
    "new_list = []\n",
    "for i in list_1:\n",
    "    new_list.append(i*2)"
   ]
  },
  {
   "cell_type": "code",
   "execution_count": 74,
   "metadata": {},
   "outputs": [
    {
     "data": {
      "text/plain": [
       "[80, 8, 20, 232, 60, 32, 100, 36, 348, 216, 232, 24, 392]"
      ]
     },
     "execution_count": 74,
     "metadata": {},
     "output_type": "execute_result"
    }
   ],
   "source": [
    "new_list"
   ]
  },
  {
   "cell_type": "code",
   "execution_count": 75,
   "metadata": {},
   "outputs": [],
   "source": [
    "second_list = []\n",
    "\n",
    "for i in list_1:\n",
    "    a = i*2\n",
    "    b = a/13\n",
    "    c = b**3\n",
    "    second_list.append(c)"
   ]
  },
  {
   "cell_type": "code",
   "execution_count": 77,
   "metadata": {},
   "outputs": [
    {
     "data": {
      "text/plain": [
       "27417.518434228492"
      ]
     },
     "execution_count": 77,
     "metadata": {},
     "output_type": "execute_result"
    }
   ],
   "source": [
    "c"
   ]
  },
  {
   "cell_type": "code",
   "execution_count": 78,
   "metadata": {},
   "outputs": [
    {
     "data": {
      "text/plain": [
       "[233.04506144742834,\n",
       " 0.23304506144742834,\n",
       " 3.641329085116068,\n",
       " 5683.736003641329,\n",
       " 98.3158852981338,\n",
       " 14.914883932635414,\n",
       " 455.16613563950847,\n",
       " 21.236231224396903,\n",
       " 19182.609012289486,\n",
       " 4587.025944469732,\n",
       " 5683.736003641329,\n",
       " 6.292216659080565,\n",
       " 27417.518434228492]"
      ]
     },
     "execution_count": 78,
     "metadata": {},
     "output_type": "execute_result"
    }
   ],
   "source": [
    "second_list"
   ]
  },
  {
   "cell_type": "code",
   "execution_count": 79,
   "metadata": {},
   "outputs": [
    {
     "name": "stdout",
     "output_type": "stream",
     "text": [
      "58\n",
      "65\n",
      "84\n",
      "87\n",
      "12\n",
      "59\n",
      "87\n",
      "25\n"
     ]
    }
   ],
   "source": [
    "for i in tuple_1:\n",
    "    print(i)"
   ]
  },
  {
   "cell_type": "code",
   "execution_count": 80,
   "metadata": {},
   "outputs": [
    {
     "name": "stdout",
     "output_type": "stream",
     "text": [
      "1\n",
      "2\n",
      "3\n"
     ]
    }
   ],
   "source": [
    "for i in set1:\n",
    "    print(i)"
   ]
  },
  {
   "cell_type": "code",
   "execution_count": 81,
   "metadata": {},
   "outputs": [
    {
     "data": {
      "text/plain": [
       "{'ON': 'Toronto', 'QC': 'Quebec City', 'SK': 'Regina'}"
      ]
     },
     "execution_count": 81,
     "metadata": {},
     "output_type": "execute_result"
    }
   ],
   "source": [
    "# Dictionary\n",
    "dict_1"
   ]
  },
  {
   "cell_type": "code",
   "execution_count": 82,
   "metadata": {},
   "outputs": [
    {
     "name": "stdout",
     "output_type": "stream",
     "text": [
      "ON\n",
      "QC\n",
      "SK\n"
     ]
    }
   ],
   "source": [
    "# when looping through a dictionary, if I only give the loop 1 variable to work with, it will return the keys only\n",
    "for i in dict_1:\n",
    "    print(i)"
   ]
  },
  {
   "cell_type": "code",
   "execution_count": 83,
   "metadata": {},
   "outputs": [
    {
     "name": "stdout",
     "output_type": "stream",
     "text": [
      "('ON', 'Toronto')\n",
      "('QC', 'Quebec City')\n",
      "('SK', 'Regina')\n"
     ]
    }
   ],
   "source": [
    "# the items() function returns the key value pair\n",
    "for i in dict_1.items():\n",
    "    print(i)"
   ]
  },
  {
   "cell_type": "code",
   "execution_count": 85,
   "metadata": {},
   "outputs": [],
   "source": [
    "list_3 = [1,3,7,8]"
   ]
  },
  {
   "cell_type": "code",
   "execution_count": 86,
   "metadata": {},
   "outputs": [],
   "source": [
    "# we can define a variable that corresponds with each value in a list\n",
    "a, b, c, d = [1,3,7,8]"
   ]
  },
  {
   "cell_type": "code",
   "execution_count": 87,
   "metadata": {},
   "outputs": [
    {
     "data": {
      "text/plain": [
       "1"
      ]
     },
     "execution_count": 87,
     "metadata": {},
     "output_type": "execute_result"
    }
   ],
   "source": [
    "a"
   ]
  },
  {
   "cell_type": "code",
   "execution_count": 88,
   "metadata": {},
   "outputs": [
    {
     "data": {
      "text/plain": [
       "3"
      ]
     },
     "execution_count": 88,
     "metadata": {},
     "output_type": "execute_result"
    }
   ],
   "source": [
    "b"
   ]
  },
  {
   "cell_type": "code",
   "execution_count": 89,
   "metadata": {},
   "outputs": [],
   "source": [
    "# we can do the same with tuples\n",
    "a, b, c, d = (5, 8, 9, 7)"
   ]
  },
  {
   "cell_type": "code",
   "execution_count": 90,
   "metadata": {},
   "outputs": [
    {
     "name": "stdout",
     "output_type": "stream",
     "text": [
      "5 8\n"
     ]
    }
   ],
   "source": [
    "print(a, b)"
   ]
  },
  {
   "cell_type": "code",
   "execution_count": 91,
   "metadata": {},
   "outputs": [
    {
     "name": "stdout",
     "output_type": "stream",
     "text": [
      "ON\n",
      "Toronto\n",
      "QC\n",
      "Quebec City\n",
      "SK\n",
      "Regina\n"
     ]
    }
   ],
   "source": [
    "for x,y in dict_1.items():\n",
    "    print(x)\n",
    "    print(y)"
   ]
  },
  {
   "cell_type": "code",
   "execution_count": 93,
   "metadata": {},
   "outputs": [],
   "source": [
    "provinces = []\n",
    "capitals = []\n",
    "\n",
    "for x,y in dict_1.items():\n",
    "    provinces.append(x)\n",
    "    capitals.append(y)"
   ]
  },
  {
   "cell_type": "code",
   "execution_count": 94,
   "metadata": {},
   "outputs": [
    {
     "data": {
      "text/plain": [
       "['ON', 'QC', 'SK']"
      ]
     },
     "execution_count": 94,
     "metadata": {},
     "output_type": "execute_result"
    }
   ],
   "source": [
    "provinces"
   ]
  },
  {
   "cell_type": "code",
   "execution_count": 96,
   "metadata": {},
   "outputs": [
    {
     "data": {
      "text/plain": [
       "['Toronto', 'Quebec City', 'Regina']"
      ]
     },
     "execution_count": 96,
     "metadata": {},
     "output_type": "execute_result"
    }
   ],
   "source": [
    "capitals"
   ]
  },
  {
   "cell_type": "code",
   "execution_count": 97,
   "metadata": {},
   "outputs": [],
   "source": [
    "# Suppose we had a nested object inside a dictionary \n",
    "delivery_locations = {\"ON\":[\"Toronto\", \"London\", \"Ottawa\", \"Windsor\", \"Sarnia\"], \"QC\":[\"Montreal\",\"Quebec City\",\"Laval\"], \"BC\":[\"Vancouver\",\"Victoria\"]}"
   ]
  },
  {
   "cell_type": "code",
   "execution_count": 99,
   "metadata": {},
   "outputs": [
    {
     "name": "stdout",
     "output_type": "stream",
     "text": [
      "ON\n",
      "['Toronto', 'London', 'Ottawa', 'Windsor', 'Sarnia']\n",
      "QC\n",
      "['Montreal', 'Quebec City', 'Laval']\n",
      "BC\n",
      "['Vancouver', 'Victoria']\n"
     ]
    }
   ],
   "source": [
    "for a,b in delivery_locations.items():\n",
    "    print(a)\n",
    "    print(b)"
   ]
  },
  {
   "cell_type": "code",
   "execution_count": 100,
   "metadata": {},
   "outputs": [],
   "source": [
    "megalist_of_cities = []\n",
    "\n",
    "for a,b in delivery_locations.items():\n",
    "    for i in b:\n",
    "        megalist_of_cities.append(i)"
   ]
  },
  {
   "cell_type": "code",
   "execution_count": 101,
   "metadata": {},
   "outputs": [
    {
     "data": {
      "text/plain": [
       "['Toronto',\n",
       " 'London',\n",
       " 'Ottawa',\n",
       " 'Windsor',\n",
       " 'Sarnia',\n",
       " 'Montreal',\n",
       " 'Quebec City',\n",
       " 'Laval',\n",
       " 'Vancouver',\n",
       " 'Victoria']"
      ]
     },
     "execution_count": 101,
     "metadata": {},
     "output_type": "execute_result"
    }
   ],
   "source": [
    "megalist_of_cities"
   ]
  },
  {
   "cell_type": "markdown",
   "metadata": {},
   "source": [
    "## Conditional logic"
   ]
  },
  {
   "cell_type": "code",
   "execution_count": 112,
   "metadata": {},
   "outputs": [],
   "source": [
    "x = 6*4**(4/30)*5**4%13"
   ]
  },
  {
   "cell_type": "code",
   "execution_count": 109,
   "metadata": {},
   "outputs": [
    {
     "name": "stdout",
     "output_type": "stream",
     "text": [
      "X is less than 100 or equal to 100\n"
     ]
    }
   ],
   "source": [
    "if x > 100:\n",
    "    print(\"X is greater than 5\")\n",
    "else:\n",
    "    print(\"X is less than 100 or equal to 100\")"
   ]
  },
  {
   "cell_type": "code",
   "execution_count": 111,
   "metadata": {},
   "outputs": [
    {
     "data": {
      "text/plain": [
       "7.2181502164927"
      ]
     },
     "execution_count": 111,
     "metadata": {},
     "output_type": "execute_result"
    }
   ],
   "source": [
    "x"
   ]
  },
  {
   "cell_type": "code",
   "execution_count": 113,
   "metadata": {},
   "outputs": [
    {
     "name": "stdout",
     "output_type": "stream",
     "text": [
      "X is a float\n",
      "X is less than 100\n"
     ]
    }
   ],
   "source": [
    "if type(x) == float:\n",
    "    print(\"X is a float\")\n",
    "elif type(x) != float:\n",
    "    print(\"X is an integer\")\n",
    "\n",
    "if x >= 100:\n",
    "    \n",
    "    print(\"X is greater than 100\")\n",
    "else:\n",
    "    print(\"X is less than 100\")"
   ]
  },
  {
   "cell_type": "code",
   "execution_count": 114,
   "metadata": {},
   "outputs": [
    {
     "data": {
      "text/plain": [
       "0.3438853079369437"
      ]
     },
     "execution_count": 114,
     "metadata": {},
     "output_type": "execute_result"
    }
   ],
   "source": [
    "x"
   ]
  },
  {
   "cell_type": "code",
   "execution_count": 115,
   "metadata": {},
   "outputs": [
    {
     "name": "stdout",
     "output_type": "stream",
     "text": [
      "x is a fraction\n"
     ]
    }
   ],
   "source": [
    "if type(x) == float and x < 1:\n",
    "    print(\"x is a fraction\")\n",
    "elif type(x) == float and x > 1:\n",
    "    print(\"x is greater than 1 and still a fraction\")\n",
    "else:\n",
    "    print(\"x is an integer\")"
   ]
  },
  {
   "cell_type": "code",
   "execution_count": 116,
   "metadata": {},
   "outputs": [
    {
     "data": {
      "text/plain": [
       "[40, 4, 10, 116, 30, 16, 50, 18, 174, 108, 116, 12, 196]"
      ]
     },
     "execution_count": 116,
     "metadata": {},
     "output_type": "execute_result"
    }
   ],
   "source": [
    "# condition combinations we can use for conditional statements: and, in, or, not, is not, not in, is\n",
    "\n",
    "list_1"
   ]
  },
  {
   "cell_type": "code",
   "execution_count": 119,
   "metadata": {},
   "outputs": [
    {
     "name": "stdout",
     "output_type": "stream",
     "text": [
      "The minimum value in the list is 4, and the max is 196\n"
     ]
    }
   ],
   "source": [
    "# example of using the AND condition\n",
    "if sum(list_1) > 1000 and len(list_1) > 10:\n",
    "    print(f\"The average of the list is {sum(list_1)/len(list_1)}\")\n",
    "else:\n",
    "    print(f\"The minimum value in the list is {min(list_1)}, and the max is {max(list_1)}\")"
   ]
  },
  {
   "cell_type": "code",
   "execution_count": 120,
   "metadata": {},
   "outputs": [
    {
     "name": "stdout",
     "output_type": "stream",
     "text": [
      "list 1 has the value 116\n"
     ]
    }
   ],
   "source": [
    "# example of using the IN condition\n",
    "if 116 in list_1:\n",
    "    print(\"list 1 has the value 116\")\n",
    "else:\n",
    "    print(\"the value is not there\")"
   ]
  },
  {
   "cell_type": "code",
   "execution_count": 121,
   "metadata": {},
   "outputs": [
    {
     "name": "stdout",
     "output_type": "stream",
     "text": [
      "The average of the list is 68.46153846153847\n"
     ]
    }
   ],
   "source": [
    "# if we want to check whether one OR another condition is met, we use \"or\"\n",
    "if sum(list_1) > 1000 or len(list_1) > 10:\n",
    "    print(f\"The average of the list is {sum(list_1)/len(list_1)}\")\n",
    "else:\n",
    "    print(f\"The minimum value in the list is {min(list_1)}, and the max is {max(list_1)}\")    "
   ]
  },
  {
   "cell_type": "code",
   "execution_count": 122,
   "metadata": {},
   "outputs": [
    {
     "name": "stdout",
     "output_type": "stream",
     "text": [
      "it's in the list\n"
     ]
    }
   ],
   "source": [
    "if 116 not in list_1:\n",
    "    print(\"it's not in the list\")\n",
    "else:\n",
    "    print(\"it's in the list\")"
   ]
  },
  {
   "cell_type": "code",
   "execution_count": 125,
   "metadata": {},
   "outputs": [
    {
     "name": "stdout",
     "output_type": "stream",
     "text": [
      "the list is empty\n"
     ]
    }
   ],
   "source": [
    "list_11 = []\n",
    "\n",
    "if not list_11:\n",
    "    print(\"the list is empty\")"
   ]
  },
  {
   "cell_type": "code",
   "execution_count": 126,
   "metadata": {},
   "outputs": [
    {
     "name": "stdout",
     "output_type": "stream",
     "text": [
      "the sum of list 1 is not greater than 1000\n"
     ]
    }
   ],
   "source": [
    "# putting \"not\" infront of a condition will check the OPPOSITE of the condition\n",
    "\n",
    "if not sum(list_1) > 1000:\n",
    "    print(\"the sum of list 1 is not greater than 1000\")"
   ]
  },
  {
   "cell_type": "markdown",
   "metadata": {},
   "source": [
    "#####  the words \"and\", \"not\", etc. also have symbol representations used in other applications >>  and = &, or = |, not = ~, is = =="
   ]
  },
  {
   "cell_type": "code",
   "execution_count": 131,
   "metadata": {},
   "outputs": [],
   "source": [
    "# now let's combine for loops and conditional statements\n",
    "# let's only apply a treatment to values divisible by 3\n",
    "for i in list_1:\n",
    "    if i % 3 == 0: # if dividing the value by 3 results in NO remainder\n",
    "        list_1[list_1.index(i)] **= 2 #raise these values to an exponent of 2\n",
    "    else:\n",
    "        continue # the loop will continue to the next value, if a value does not meet the condition\n",
    "    "
   ]
  },
  {
   "cell_type": "code",
   "execution_count": 132,
   "metadata": {},
   "outputs": [
    {
     "data": {
      "text/plain": [
       "[40, 4, 10, 116, 900, 16, 50, 324, 30276, 11664, 116, 144, 196]"
      ]
     },
     "execution_count": 132,
     "metadata": {},
     "output_type": "execute_result"
    }
   ],
   "source": [
    "list_1"
   ]
  },
  {
   "cell_type": "code",
   "execution_count": 133,
   "metadata": {},
   "outputs": [
    {
     "data": {
      "text/plain": [
       "[64000,\n",
       " 4,\n",
       " 1000,\n",
       " 116,\n",
       " 810000,\n",
       " 16,\n",
       " 125000,\n",
       " 104976,\n",
       " 916636176,\n",
       " 136048896,\n",
       " 116,\n",
       " 20736,\n",
       " 196]"
      ]
     },
     "execution_count": 133,
     "metadata": {},
     "output_type": "execute_result"
    }
   ],
   "source": [
    "for i in list_1:\n",
    "    if i%3 == 0:\n",
    "        list_1[list_1.index(i)] **= 2\n",
    "    elif i%5 == 0:\n",
    "        list_1[list_1.index(i)] **= 3\n",
    "    else:\n",
    "        continue\n",
    "\n",
    "list_1"
   ]
  },
  {
   "cell_type": "markdown",
   "metadata": {},
   "source": [
    "### Defining Custom Functions"
   ]
  },
  {
   "cell_type": "code",
   "execution_count": 135,
   "metadata": {},
   "outputs": [
    {
     "data": {
      "text/plain": [
       "81062402.46153846"
      ]
     },
     "execution_count": 135,
     "metadata": {},
     "output_type": "execute_result"
    }
   ],
   "source": [
    "# calculating the average of a list - if we wanted to do it in core Python, we could simply use sum() and len()\n",
    "\n",
    "sum(list_1) / len(list_1)\n"
   ]
  },
  {
   "cell_type": "code",
   "execution_count": 137,
   "metadata": {},
   "outputs": [
    {
     "data": {
      "text/plain": [
       "4.75"
      ]
     },
     "execution_count": 137,
     "metadata": {},
     "output_type": "execute_result"
    }
   ],
   "source": [
    "sum(list_3)/len(list_3)"
   ]
  },
  {
   "cell_type": "code",
   "execution_count": 138,
   "metadata": {},
   "outputs": [],
   "source": [
    "# the purpose of defining custom functions is to store a procedure and only have to use a single line to apply to multiple objects\n",
    "\n",
    "def mean(x): # x is a placeholder\n",
    "    return sum(x)/len(x)"
   ]
  },
  {
   "cell_type": "code",
   "execution_count": 139,
   "metadata": {},
   "outputs": [
    {
     "data": {
      "text/plain": [
       "81062402.46153846"
      ]
     },
     "execution_count": 139,
     "metadata": {},
     "output_type": "execute_result"
    }
   ],
   "source": [
    "mean(list_1)"
   ]
  },
  {
   "cell_type": "code",
   "execution_count": 141,
   "metadata": {},
   "outputs": [
    {
     "data": {
      "text/plain": [
       "4.75"
      ]
     },
     "execution_count": 141,
     "metadata": {},
     "output_type": "execute_result"
    }
   ],
   "source": [
    "mean(list_3)"
   ]
  },
  {
   "cell_type": "code",
   "execution_count": 142,
   "metadata": {},
   "outputs": [
    {
     "name": "stdout",
     "output_type": "stream",
     "text": [
      "81062402.46153846\n",
      "4.75\n"
     ]
    }
   ],
   "source": [
    "# print averages for both lists at once\n",
    "\n",
    "for i in [list_1, list_3]:\n",
    "    print(mean(i))"
   ]
  },
  {
   "cell_type": "code",
   "execution_count": 159,
   "metadata": {},
   "outputs": [],
   "source": [
    "def comparing_sets(x, y): # this function takes two inputs\n",
    "    common_values = x.intersection(y)\n",
    "    values_in_x_only = x.difference(y)\n",
    "    values_in_y_only = y.difference(x)\n",
    "    combined_differences = list(values_in_x_only)\n",
    "    combined_differences.extend(list(values_in_y_only))\n",
    "    return combined_differences"
   ]
  },
  {
   "cell_type": "code",
   "execution_count": 145,
   "metadata": {},
   "outputs": [
    {
     "data": {
      "text/plain": [
       "{15, 25, 28, 45, 65, 98, 100}"
      ]
     },
     "execution_count": 145,
     "metadata": {},
     "output_type": "execute_result"
    }
   ],
   "source": [
    "set_1"
   ]
  },
  {
   "cell_type": "code",
   "execution_count": 148,
   "metadata": {},
   "outputs": [],
   "source": [
    "set_2 = {15,25,45,855,657,879}"
   ]
  },
  {
   "cell_type": "code",
   "execution_count": 160,
   "metadata": {},
   "outputs": [
    {
     "data": {
      "text/plain": [
       "[65, 98, 100, 28, 657, 879, 855]"
      ]
     },
     "execution_count": 160,
     "metadata": {},
     "output_type": "execute_result"
    }
   ],
   "source": [
    "comparing_sets(set_1,set_2)"
   ]
  },
  {
   "cell_type": "code",
   "execution_count": 167,
   "metadata": {},
   "outputs": [],
   "source": [
    "# Build a function which is able to calculate the MEDIAN value of a list\n",
    "\n",
    "def median(x):\n",
    "    x.sort() # sort the list\n",
    "    if len(x) % 2 == 0: # check if list has even number of numbers\n",
    "        median = (x[len(x)//2] + x[(len(x)//2)-1])/2\n",
    "    else: # if list has odd number of numbers\n",
    "        median = x[len(x)//2]\n",
    "    return median\n"
   ]
  },
  {
   "cell_type": "code",
   "execution_count": 166,
   "metadata": {},
   "outputs": [
    {
     "data": {
      "text/plain": [
       "7"
      ]
     },
     "execution_count": 166,
     "metadata": {},
     "output_type": "execute_result"
    }
   ],
   "source": [
    "(len(list_1)+1)//2"
   ]
  },
  {
   "cell_type": "code",
   "execution_count": 165,
   "metadata": {},
   "outputs": [],
   "source": [
    "even_list = [5,8,9,15,28,35,44,68]\n",
    "odd_list = [8,9,5,84,79,25,6]"
   ]
  },
  {
   "cell_type": "code",
   "execution_count": 168,
   "metadata": {},
   "outputs": [
    {
     "data": {
      "text/plain": [
       "21.5"
      ]
     },
     "execution_count": 168,
     "metadata": {},
     "output_type": "execute_result"
    }
   ],
   "source": [
    "median(even_list)"
   ]
  },
  {
   "cell_type": "code",
   "execution_count": 169,
   "metadata": {},
   "outputs": [
    {
     "data": {
      "text/plain": [
       "9"
      ]
     },
     "execution_count": 169,
     "metadata": {},
     "output_type": "execute_result"
    }
   ],
   "source": [
    "median(odd_list)"
   ]
  },
  {
   "cell_type": "code",
   "execution_count": 164,
   "metadata": {},
   "outputs": [
    {
     "data": {
      "text/plain": [
       "[64000,\n",
       " 4,\n",
       " 1000,\n",
       " 116,\n",
       " 810000,\n",
       " 16,\n",
       " 125000,\n",
       " 104976,\n",
       " 916636176,\n",
       " 136048896,\n",
       " 116,\n",
       " 20736,\n",
       " 196]"
      ]
     },
     "execution_count": 164,
     "metadata": {},
     "output_type": "execute_result"
    }
   ],
   "source": [
    "list_1"
   ]
  },
  {
   "cell_type": "code",
   "execution_count": null,
   "metadata": {},
   "outputs": [],
   "source": []
  }
 ],
 "metadata": {
  "kernelspec": {
   "display_name": "Python 3",
   "language": "python",
   "name": "python3"
  },
  "language_info": {
   "codemirror_mode": {
    "name": "ipython",
    "version": 3
   },
   "file_extension": ".py",
   "mimetype": "text/x-python",
   "name": "python",
   "nbconvert_exporter": "python",
   "pygments_lexer": "ipython3",
   "version": "3.11.4"
  }
 },
 "nbformat": 4,
 "nbformat_minor": 2
}
